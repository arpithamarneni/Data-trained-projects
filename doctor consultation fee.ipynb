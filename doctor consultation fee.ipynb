{
 "cells": [
  {
   "cell_type": "code",
   "execution_count": 1,
   "metadata": {},
   "outputs": [],
   "source": [
    "import pandas as pd\n",
    "import numpy as np\n",
    "import seaborn as sns\n",
    "import matplotlib.pyplot as plt\n",
    "import re\n",
    "from collections import Counter\n",
    "import warnings\n",
    "warnings.filterwarnings('ignore')"
   ]
  },
  {
   "cell_type": "code",
   "execution_count": 2,
   "metadata": {
    "scrolled": true
   },
   "outputs": [
    {
     "data": {
      "text/html": [
       "<div>\n",
       "<style scoped>\n",
       "    .dataframe tbody tr th:only-of-type {\n",
       "        vertical-align: middle;\n",
       "    }\n",
       "\n",
       "    .dataframe tbody tr th {\n",
       "        vertical-align: top;\n",
       "    }\n",
       "\n",
       "    .dataframe thead th {\n",
       "        text-align: right;\n",
       "    }\n",
       "</style>\n",
       "<table border=\"1\" class=\"dataframe\">\n",
       "  <thead>\n",
       "    <tr style=\"text-align: right;\">\n",
       "      <th></th>\n",
       "      <th>Qualification</th>\n",
       "      <th>Experience</th>\n",
       "      <th>Rating</th>\n",
       "      <th>Place</th>\n",
       "      <th>Profile</th>\n",
       "      <th>Miscellaneous_Info</th>\n",
       "      <th>Fees</th>\n",
       "    </tr>\n",
       "  </thead>\n",
       "  <tbody>\n",
       "    <tr>\n",
       "      <th>0</th>\n",
       "      <td>BHMS, MD - Homeopathy</td>\n",
       "      <td>24 years experience</td>\n",
       "      <td>100%</td>\n",
       "      <td>Kakkanad, Ernakulam</td>\n",
       "      <td>Homeopath</td>\n",
       "      <td>100% 16 Feedback Kakkanad, Ernakulam</td>\n",
       "      <td>100</td>\n",
       "    </tr>\n",
       "    <tr>\n",
       "      <th>1</th>\n",
       "      <td>BAMS, MD - Ayurveda Medicine</td>\n",
       "      <td>12 years experience</td>\n",
       "      <td>98%</td>\n",
       "      <td>Whitefield, Bangalore</td>\n",
       "      <td>Ayurveda</td>\n",
       "      <td>98% 76 Feedback Whitefield, Bangalore</td>\n",
       "      <td>350</td>\n",
       "    </tr>\n",
       "    <tr>\n",
       "      <th>2</th>\n",
       "      <td>MBBS, MS - Otorhinolaryngology</td>\n",
       "      <td>9 years experience</td>\n",
       "      <td>NaN</td>\n",
       "      <td>Mathikere - BEL, Bangalore</td>\n",
       "      <td>ENT Specialist</td>\n",
       "      <td>NaN</td>\n",
       "      <td>300</td>\n",
       "    </tr>\n",
       "    <tr>\n",
       "      <th>3</th>\n",
       "      <td>BSc - Zoology, BAMS</td>\n",
       "      <td>12 years experience</td>\n",
       "      <td>NaN</td>\n",
       "      <td>Bannerghatta Road, Bangalore</td>\n",
       "      <td>Ayurveda</td>\n",
       "      <td>Bannerghatta Road, Bangalore ₹250 Available on...</td>\n",
       "      <td>250</td>\n",
       "    </tr>\n",
       "    <tr>\n",
       "      <th>4</th>\n",
       "      <td>BAMS</td>\n",
       "      <td>20 years experience</td>\n",
       "      <td>100%</td>\n",
       "      <td>Keelkattalai, Chennai</td>\n",
       "      <td>Ayurveda</td>\n",
       "      <td>100% 4 Feedback Keelkattalai, Chennai</td>\n",
       "      <td>250</td>\n",
       "    </tr>\n",
       "  </tbody>\n",
       "</table>\n",
       "</div>"
      ],
      "text/plain": [
       "                    Qualification           Experience Rating  \\\n",
       "0           BHMS, MD - Homeopathy  24 years experience   100%   \n",
       "1    BAMS, MD - Ayurveda Medicine  12 years experience    98%   \n",
       "2  MBBS, MS - Otorhinolaryngology   9 years experience    NaN   \n",
       "3             BSc - Zoology, BAMS  12 years experience    NaN   \n",
       "4                            BAMS  20 years experience   100%   \n",
       "\n",
       "                          Place         Profile  \\\n",
       "0           Kakkanad, Ernakulam       Homeopath   \n",
       "1         Whitefield, Bangalore        Ayurveda   \n",
       "2    Mathikere - BEL, Bangalore  ENT Specialist   \n",
       "3  Bannerghatta Road, Bangalore        Ayurveda   \n",
       "4         Keelkattalai, Chennai        Ayurveda   \n",
       "\n",
       "                                  Miscellaneous_Info  Fees  \n",
       "0               100% 16 Feedback Kakkanad, Ernakulam   100  \n",
       "1              98% 76 Feedback Whitefield, Bangalore   350  \n",
       "2                                                NaN   300  \n",
       "3  Bannerghatta Road, Bangalore ₹250 Available on...   250  \n",
       "4              100% 4 Feedback Keelkattalai, Chennai   250  "
      ]
     },
     "execution_count": 2,
     "metadata": {},
     "output_type": "execute_result"
    }
   ],
   "source": [
    "fee= pd.read_excel(\"C:/Users/trinity/Downloads/Doctor_fee_consultation/Final Participant Data Folder/Final_Train.xlsx\")\n",
    "fee.head()"
   ]
  },
  {
   "cell_type": "code",
   "execution_count": 3,
   "metadata": {},
   "outputs": [
    {
     "data": {
      "text/html": [
       "<div>\n",
       "<style scoped>\n",
       "    .dataframe tbody tr th:only-of-type {\n",
       "        vertical-align: middle;\n",
       "    }\n",
       "\n",
       "    .dataframe tbody tr th {\n",
       "        vertical-align: top;\n",
       "    }\n",
       "\n",
       "    .dataframe thead th {\n",
       "        text-align: right;\n",
       "    }\n",
       "</style>\n",
       "<table border=\"1\" class=\"dataframe\">\n",
       "  <thead>\n",
       "    <tr style=\"text-align: right;\">\n",
       "      <th></th>\n",
       "      <th>Qualification</th>\n",
       "      <th>Experience</th>\n",
       "      <th>Rating</th>\n",
       "      <th>Place</th>\n",
       "      <th>Profile</th>\n",
       "      <th>Miscellaneous_Info</th>\n",
       "    </tr>\n",
       "  </thead>\n",
       "  <tbody>\n",
       "    <tr>\n",
       "      <th>0</th>\n",
       "      <td>MBBS</td>\n",
       "      <td>35 years experience</td>\n",
       "      <td>NaN</td>\n",
       "      <td>Ghatkopar East, Mumbai</td>\n",
       "      <td>General Medicine</td>\n",
       "      <td>NaN</td>\n",
       "    </tr>\n",
       "    <tr>\n",
       "      <th>1</th>\n",
       "      <td>MBBS, Diploma in Otorhinolaryngology (DLO)</td>\n",
       "      <td>31 years experience</td>\n",
       "      <td>NaN</td>\n",
       "      <td>West Marredpally, Hyderabad</td>\n",
       "      <td>ENT Specialist</td>\n",
       "      <td>NaN</td>\n",
       "    </tr>\n",
       "    <tr>\n",
       "      <th>2</th>\n",
       "      <td>MBBS, DDVL</td>\n",
       "      <td>40 years experience</td>\n",
       "      <td>70%</td>\n",
       "      <td>KK Nagar, Chennai</td>\n",
       "      <td>Dermatologists</td>\n",
       "      <td>70% 4 Feedback KK Nagar, Chennai</td>\n",
       "    </tr>\n",
       "    <tr>\n",
       "      <th>3</th>\n",
       "      <td>BAMS</td>\n",
       "      <td>0 years experience</td>\n",
       "      <td>NaN</td>\n",
       "      <td>New Ashok Nagar, Delhi</td>\n",
       "      <td>Ayurveda</td>\n",
       "      <td>NaN</td>\n",
       "    </tr>\n",
       "    <tr>\n",
       "      <th>4</th>\n",
       "      <td>BDS, MDS - Conservative Dentistry &amp; Endodontics</td>\n",
       "      <td>16 years experience</td>\n",
       "      <td>100%</td>\n",
       "      <td>Kanakpura Road, Bangalore</td>\n",
       "      <td>Dentist</td>\n",
       "      <td>General Dentistry Conservative Dentistry Cosme...</td>\n",
       "    </tr>\n",
       "  </tbody>\n",
       "</table>\n",
       "</div>"
      ],
      "text/plain": [
       "                                     Qualification           Experience  \\\n",
       "0                                             MBBS  35 years experience   \n",
       "1       MBBS, Diploma in Otorhinolaryngology (DLO)  31 years experience   \n",
       "2                                       MBBS, DDVL  40 years experience   \n",
       "3                                             BAMS   0 years experience   \n",
       "4  BDS, MDS - Conservative Dentistry & Endodontics  16 years experience   \n",
       "\n",
       "  Rating                        Place           Profile  \\\n",
       "0    NaN       Ghatkopar East, Mumbai  General Medicine   \n",
       "1    NaN  West Marredpally, Hyderabad    ENT Specialist   \n",
       "2    70%            KK Nagar, Chennai    Dermatologists   \n",
       "3    NaN       New Ashok Nagar, Delhi          Ayurveda   \n",
       "4   100%    Kanakpura Road, Bangalore           Dentist   \n",
       "\n",
       "                                  Miscellaneous_Info  \n",
       "0                                                NaN  \n",
       "1                                                NaN  \n",
       "2                   70% 4 Feedback KK Nagar, Chennai  \n",
       "3                                                NaN  \n",
       "4  General Dentistry Conservative Dentistry Cosme...  "
      ]
     },
     "execution_count": 3,
     "metadata": {},
     "output_type": "execute_result"
    }
   ],
   "source": [
    "fee_test=pd.read_excel(\"C:/Users/trinity/Downloads/Doctor_fee_consultation/Final Participant Data Folder/Final_Test.xlsx\")\n",
    "fee_test.head()"
   ]
  },
  {
   "cell_type": "code",
   "execution_count": 4,
   "metadata": {},
   "outputs": [
    {
     "data": {
      "text/plain": [
       "(5961, 7)"
      ]
     },
     "execution_count": 4,
     "metadata": {},
     "output_type": "execute_result"
    }
   ],
   "source": [
    "fee.shape"
   ]
  },
  {
   "cell_type": "code",
   "execution_count": 5,
   "metadata": {
    "scrolled": false
   },
   "outputs": [
    {
     "data": {
      "text/plain": [
       "Qualification            0\n",
       "Experience               0\n",
       "Rating                3302\n",
       "Place                   25\n",
       "Profile                  0\n",
       "Miscellaneous_Info    2620\n",
       "Fees                     0\n",
       "dtype: int64"
      ]
     },
     "execution_count": 5,
     "metadata": {},
     "output_type": "execute_result"
    }
   ],
   "source": [
    "fee.isnull().sum()"
   ]
  },
  {
   "cell_type": "code",
   "execution_count": 6,
   "metadata": {},
   "outputs": [
    {
     "data": {
      "text/plain": [
       "<AxesSubplot:>"
      ]
     },
     "execution_count": 6,
     "metadata": {},
     "output_type": "execute_result"
    },
    {
     "data": {
      "image/png": "[encoded data removed]",
      "text/plain": [
       "<Figure size 432x288 with 1 Axes>"
      ]
     },
     "metadata": {
      "needs_background": "light"
     },
     "output_type": "display_data"
    }
   ],
   "source": [
    "sns.heatmap(fee.isnull(), yticklabels=False,cbar=False)"
   ]
  },
  {
   "cell_type": "raw",
   "metadata": {},
   "source": [
    "Observation:\n",
    "1.There are missing values in Rating, Miscellaneous_Info,Place"
   ]
  },
  {
   "cell_type": "markdown",
   "metadata": {},
   "source": [
    "# Handling missing values"
   ]
  },
  {
   "cell_type": "code",
   "execution_count": 7,
   "metadata": {
    "scrolled": true
   },
   "outputs": [
    {
     "data": {
      "text/html": [
       "<div>\n",
       "<style scoped>\n",
       "    .dataframe tbody tr th:only-of-type {\n",
       "        vertical-align: middle;\n",
       "    }\n",
       "\n",
       "    .dataframe tbody tr th {\n",
       "        vertical-align: top;\n",
       "    }\n",
       "\n",
       "    .dataframe thead th {\n",
       "        text-align: right;\n",
       "    }\n",
       "</style>\n",
       "<table border=\"1\" class=\"dataframe\">\n",
       "  <thead>\n",
       "    <tr style=\"text-align: right;\">\n",
       "      <th></th>\n",
       "      <th>Qualification</th>\n",
       "      <th>Experience</th>\n",
       "      <th>Rating</th>\n",
       "      <th>Place</th>\n",
       "      <th>Profile</th>\n",
       "      <th>Miscellaneous_Info</th>\n",
       "      <th>Fees</th>\n",
       "    </tr>\n",
       "  </thead>\n",
       "  <tbody>\n",
       "    <tr>\n",
       "      <th>0</th>\n",
       "      <td>BHMS, MD - Homeopathy</td>\n",
       "      <td>24 years experience</td>\n",
       "      <td>100%</td>\n",
       "      <td>Kakkanad, Ernakulam</td>\n",
       "      <td>Homeopath</td>\n",
       "      <td>100% 16 Feedback Kakkanad, Ernakulam</td>\n",
       "      <td>100</td>\n",
       "    </tr>\n",
       "    <tr>\n",
       "      <th>1</th>\n",
       "      <td>BAMS, MD - Ayurveda Medicine</td>\n",
       "      <td>12 years experience</td>\n",
       "      <td>98%</td>\n",
       "      <td>Whitefield, Bangalore</td>\n",
       "      <td>Ayurveda</td>\n",
       "      <td>98% 76 Feedback Whitefield, Bangalore</td>\n",
       "      <td>350</td>\n",
       "    </tr>\n",
       "    <tr>\n",
       "      <th>2</th>\n",
       "      <td>MBBS, MS - Otorhinolaryngology</td>\n",
       "      <td>9 years experience</td>\n",
       "      <td>0%</td>\n",
       "      <td>Mathikere - BEL, Bangalore</td>\n",
       "      <td>ENT Specialist</td>\n",
       "      <td>NaN</td>\n",
       "      <td>300</td>\n",
       "    </tr>\n",
       "    <tr>\n",
       "      <th>3</th>\n",
       "      <td>BSc - Zoology, BAMS</td>\n",
       "      <td>12 years experience</td>\n",
       "      <td>0%</td>\n",
       "      <td>Bannerghatta Road, Bangalore</td>\n",
       "      <td>Ayurveda</td>\n",
       "      <td>Bannerghatta Road, Bangalore ₹250 Available on...</td>\n",
       "      <td>250</td>\n",
       "    </tr>\n",
       "    <tr>\n",
       "      <th>4</th>\n",
       "      <td>BAMS</td>\n",
       "      <td>20 years experience</td>\n",
       "      <td>100%</td>\n",
       "      <td>Keelkattalai, Chennai</td>\n",
       "      <td>Ayurveda</td>\n",
       "      <td>100% 4 Feedback Keelkattalai, Chennai</td>\n",
       "      <td>250</td>\n",
       "    </tr>\n",
       "  </tbody>\n",
       "</table>\n",
       "</div>"
      ],
      "text/plain": [
       "                    Qualification           Experience Rating  \\\n",
       "0           BHMS, MD - Homeopathy  24 years experience   100%   \n",
       "1    BAMS, MD - Ayurveda Medicine  12 years experience    98%   \n",
       "2  MBBS, MS - Otorhinolaryngology   9 years experience     0%   \n",
       "3             BSc - Zoology, BAMS  12 years experience     0%   \n",
       "4                            BAMS  20 years experience   100%   \n",
       "\n",
       "                          Place         Profile  \\\n",
       "0           Kakkanad, Ernakulam       Homeopath   \n",
       "1         Whitefield, Bangalore        Ayurveda   \n",
       "2    Mathikere - BEL, Bangalore  ENT Specialist   \n",
       "3  Bannerghatta Road, Bangalore        Ayurveda   \n",
       "4         Keelkattalai, Chennai        Ayurveda   \n",
       "\n",
       "                                  Miscellaneous_Info  Fees  \n",
       "0               100% 16 Feedback Kakkanad, Ernakulam   100  \n",
       "1              98% 76 Feedback Whitefield, Bangalore   350  \n",
       "2                                                NaN   300  \n",
       "3  Bannerghatta Road, Bangalore ₹250 Available on...   250  \n",
       "4              100% 4 Feedback Keelkattalai, Chennai   250  "
      ]
     },
     "execution_count": 7,
     "metadata": {},
     "output_type": "execute_result"
    }
   ],
   "source": [
    "# we have replaced NaN values with 0\n",
    "fee['Rating'].fillna('0%',inplace=True)\n",
    "fee.head()"
   ]
  },
  {
   "cell_type": "code",
   "execution_count": 8,
   "metadata": {},
   "outputs": [],
   "source": [
    "#filling all the non_null values with 1 and null values with 0\n",
    "for i in fee['Miscellaneous_Info'].value_counts().index:\n",
    "    fee['Miscellaneous_Info'].replace(i,int(1),inplace=True)\n",
    "fee['Miscellaneous_Info'].fillna(int(0),inplace=True)"
   ]
  },
  {
   "cell_type": "code",
   "execution_count": 9,
   "metadata": {},
   "outputs": [],
   "source": [
    "# We will fill the NaN values withe None\n",
    "fee['Place'].fillna('None,None',inplace=True)\n"
   ]
  },
  {
   "cell_type": "code",
   "execution_count": 10,
   "metadata": {},
   "outputs": [
    {
     "data": {
      "text/plain": [
       "Qualification         0\n",
       "Experience            0\n",
       "Rating                0\n",
       "Place                 0\n",
       "Profile               0\n",
       "Miscellaneous_Info    0\n",
       "Fees                  0\n",
       "dtype: int64"
      ]
     },
     "execution_count": 10,
     "metadata": {},
     "output_type": "execute_result"
    }
   ],
   "source": [
    "fee.isnull().sum()"
   ]
  },
  {
   "cell_type": "raw",
   "metadata": {},
   "source": [
    "Observation:\n",
    "The missing values in the dataset is handled"
   ]
  },
  {
   "cell_type": "markdown",
   "metadata": {},
   "source": [
    "# Data Preprocessing"
   ]
  },
  {
   "cell_type": "markdown",
   "metadata": {},
   "source": [
    "###### Qualification"
   ]
  },
  {
   "cell_type": "code",
   "execution_count": 11,
   "metadata": {},
   "outputs": [
    {
     "name": "stdout",
     "output_type": "stream",
     "text": [
      "Maximum qualifications of a doctor in the Train dataset is 10\n",
      "\n",
      "And the qualifications is --> Fellowship in Oral implantlogy, Certified Advance Course In Endodontics, Certified in Orthodontics, Certification in Full Mouth Rehabilitation, Certified BPS Dentist, Certificate in Cosmetic Dentistry, Professional Implantology Training Course (PITC), Fellowship in Advanced Endoscopic Sinus Surgery, Degree in Dental Implant, Fellowship in Lasers & Cosmetology\n",
      "\n",
      "\n",
      "\n",
      "\n",
      "Minimum qualifications of a doctor in the Train dataset is 1\n",
      "\n",
      "And the qualifications is --> BAMS\n",
      "\n",
      "\n"
     ]
    }
   ],
   "source": [
    "# Max qualification and min qualification of doctors in dataset\n",
    "Max=fee.Qualification.apply(lambda x: len(x.split(',')))\n",
    "print(\"Maximum qualifications of a doctor in the Train dataset is {}\\n\".format(Max.max()))\n",
    "print(\"And the qualifications is --> {}\\n\\n\".format(fee.Qualification[Max.idxmax()]))\n",
    "print('\\n')\n",
    "print(\"Minimum qualifications of a doctor in the Train dataset is {}\\n\".format(Max.min()))\n",
    "\n",
    "print(\"And the qualifications is --> {}\\n\\n\".format(fee.Qualification[Max.idxmin()]))\n"
   ]
  },
  {
   "cell_type": "code",
   "execution_count": 12,
   "metadata": {
    "scrolled": true
   },
   "outputs": [
    {
     "data": {
      "text/plain": [
       "BDS                                                      488\n",
       "BHMS                                                     477\n",
       "BAMS                                                     471\n",
       "MBBS                                                     334\n",
       "MBBS, MS - ENT                                           220\n",
       "MBBS, MD - Dermatology                                   178\n",
       "MBBS, MD - General Medicine                              177\n",
       "MBBS, MD - Dermatology , Venereology & Leprosy           140\n",
       "BHMS, MD - Homeopathy                                     93\n",
       "MBBS, DDVL                                                92\n",
       "MBBS, Diploma in Otorhinolaryngology (DLO)                84\n",
       "BAMS, MD - Ayurveda Medicine                              82\n",
       "BDS, MDS - Conservative Dentistry & Endodontics           68\n",
       "MBBS, DDV                                                 66\n",
       "BDS, MDS                                                  63\n",
       "BDS, MDS - Oral & Maxillofacial Surgery                   57\n",
       "MD - Dermatology , Venereology & Leprosy, MBBS            52\n",
       "BDS, MDS - Prosthodontics                                 45\n",
       "MBBS, MS - Otorhinolaryngology                            44\n",
       "MBBS, MD - Internal Medicine                              43\n",
       "BDS, MDS - Orthodontics                                   41\n",
       "MBBS, MD - Medicine                                       41\n",
       "MS - ENT, MBBS                                            37\n",
       "BDS, MDS - Paedodontics And Preventive Dentistry          32\n",
       "MBBS, Diploma in Dermatology                              31\n",
       "MD - Dermatology, MBBS                                    31\n",
       "BDS, MDS - Orthodontics and Dentofacial Orthopaedics      29\n",
       "BDS, MDS - Periodontology and Oral Implantology           29\n",
       "MBBS, Diploma in Otorhinolaryngology (DLO), DNB - ENT     27\n",
       "BDS, MDS - Prosthodontist And Crown Bridge                25\n",
       "Name: Qualification, dtype: int64"
      ]
     },
     "execution_count": 12,
     "metadata": {},
     "output_type": "execute_result"
    }
   ],
   "source": [
    "fee['Qualification'].value_counts()[:30]"
   ]
  },
  {
   "cell_type": "raw",
   "metadata": {},
   "source": [
    "We can see BDS,BHMS,BAMS,MBBS,MS,MD,DDVL,DLO,MDS,DDV are the qualifications.\n",
    "We will add these features of those give '1'or '0' as if they are present or not"
   ]
  },
  {
   "cell_type": "code",
   "execution_count": 13,
   "metadata": {},
   "outputs": [],
   "source": [
    "#To to give 1 if feature is present else 0\n",
    "def features(arr,string):\n",
    "    for data in dat:\n",
    "        if data.find(string)!=-1:\n",
    "            arr.append(int(1))\n",
    "        else:\n",
    "            arr.append(int(0))\n",
    "\n",
    "# To enter the values into a dataframe\n",
    "def to_df(lst):\n",
    "    lst=pd.DataFrame(lst)\n",
    "    return(lst)"
   ]
  },
  {
   "cell_type": "code",
   "execution_count": 14,
   "metadata": {},
   "outputs": [],
   "source": [
    "#To create a dataframe with all qualification\n",
    "col=['BDS','BHMS','BAMS','MBBS','MS','MD','DDVL','DLO','MDS','DDV']"
   ]
  },
  {
   "cell_type": "code",
   "execution_count": 15,
   "metadata": {},
   "outputs": [],
   "source": [
    "dat=fee[\"Qualification\"]\n",
    "BDS=[]\n",
    "BHMS=[]\n",
    "BAMS=[]\n",
    "MBBS=[]\n",
    "MS=[]\n",
    "MD=[]\n",
    "DDVL=[]\n",
    "DLO=[]\n",
    "MDS=[]\n",
    "DDV=[]\n",
    "\n",
    "features(BDS,'BDS')\n",
    "features(BHMS,'BHMS')\n",
    "features(BAMS,'BAMS')\n",
    "features(MBBS,'MBBS')\n",
    "features(MS,'MS')\n",
    "features(DDVL,'DDVL')\n",
    "features(DLO,'DLO')\n",
    "features(MDS,'MDS')\n",
    "features(DDV,'DDV')\n",
    "features(MD,'MD')\n",
    "\n",
    "BDS=to_df(BDS)\n",
    "BHMS=to_df(BHMS)\n",
    "BAMS=to_df(BAMS)\n",
    "MBBS=to_df(MBBS)\n",
    "MS=to_df(MS)\n",
    "DDVL=to_df(DDVL)\n",
    "DLO=to_df(DLO)\n",
    "MDS=to_df(MDS)\n",
    "DDV=to_df(DDV)\n",
    "MD=to_df(MD)\n",
    "\n"
   ]
  },
  {
   "cell_type": "code",
   "execution_count": 16,
   "metadata": {},
   "outputs": [],
   "source": [
    "fee= fee.drop('Qualification',axis=1)\n",
    "fee=pd.concat([BDS,BHMS,BAMS,MBBS,MS,MD,DDVL,DLO,MDS,DDV,fee],axis=1)"
   ]
  },
  {
   "cell_type": "code",
   "execution_count": 17,
   "metadata": {
    "scrolled": true
   },
   "outputs": [
    {
     "data": {
      "text/html": [
       "<div>\n",
       "<style scoped>\n",
       "    .dataframe tbody tr th:only-of-type {\n",
       "        vertical-align: middle;\n",
       "    }\n",
       "\n",
       "    .dataframe tbody tr th {\n",
       "        vertical-align: top;\n",
       "    }\n",
       "\n",
       "    .dataframe thead th {\n",
       "        text-align: right;\n",
       "    }\n",
       "</style>\n",
       "<table border=\"1\" class=\"dataframe\">\n",
       "  <thead>\n",
       "    <tr style=\"text-align: right;\">\n",
       "      <th></th>\n",
       "      <th>BDS</th>\n",
       "      <th>BHMS</th>\n",
       "      <th>BAMS</th>\n",
       "      <th>MBBS</th>\n",
       "      <th>MS</th>\n",
       "      <th>MD</th>\n",
       "      <th>DDVL</th>\n",
       "      <th>DLO</th>\n",
       "      <th>MDS</th>\n",
       "      <th>DDV</th>\n",
       "      <th>Experience</th>\n",
       "      <th>Rating</th>\n",
       "      <th>Place</th>\n",
       "      <th>Profile</th>\n",
       "      <th>Miscellaneous_Info</th>\n",
       "      <th>Fees</th>\n",
       "    </tr>\n",
       "  </thead>\n",
       "  <tbody>\n",
       "    <tr>\n",
       "      <th>0</th>\n",
       "      <td>0</td>\n",
       "      <td>1</td>\n",
       "      <td>0</td>\n",
       "      <td>0</td>\n",
       "      <td>1</td>\n",
       "      <td>1</td>\n",
       "      <td>0</td>\n",
       "      <td>0</td>\n",
       "      <td>0</td>\n",
       "      <td>0</td>\n",
       "      <td>24 years experience</td>\n",
       "      <td>100%</td>\n",
       "      <td>Kakkanad, Ernakulam</td>\n",
       "      <td>Homeopath</td>\n",
       "      <td>1.0</td>\n",
       "      <td>100</td>\n",
       "    </tr>\n",
       "    <tr>\n",
       "      <th>1</th>\n",
       "      <td>0</td>\n",
       "      <td>0</td>\n",
       "      <td>1</td>\n",
       "      <td>0</td>\n",
       "      <td>1</td>\n",
       "      <td>1</td>\n",
       "      <td>0</td>\n",
       "      <td>0</td>\n",
       "      <td>0</td>\n",
       "      <td>0</td>\n",
       "      <td>12 years experience</td>\n",
       "      <td>98%</td>\n",
       "      <td>Whitefield, Bangalore</td>\n",
       "      <td>Ayurveda</td>\n",
       "      <td>1.0</td>\n",
       "      <td>350</td>\n",
       "    </tr>\n",
       "    <tr>\n",
       "      <th>2</th>\n",
       "      <td>0</td>\n",
       "      <td>0</td>\n",
       "      <td>0</td>\n",
       "      <td>1</td>\n",
       "      <td>1</td>\n",
       "      <td>0</td>\n",
       "      <td>0</td>\n",
       "      <td>0</td>\n",
       "      <td>0</td>\n",
       "      <td>0</td>\n",
       "      <td>9 years experience</td>\n",
       "      <td>0%</td>\n",
       "      <td>Mathikere - BEL, Bangalore</td>\n",
       "      <td>ENT Specialist</td>\n",
       "      <td>0.0</td>\n",
       "      <td>300</td>\n",
       "    </tr>\n",
       "    <tr>\n",
       "      <th>3</th>\n",
       "      <td>0</td>\n",
       "      <td>0</td>\n",
       "      <td>1</td>\n",
       "      <td>0</td>\n",
       "      <td>1</td>\n",
       "      <td>0</td>\n",
       "      <td>0</td>\n",
       "      <td>0</td>\n",
       "      <td>0</td>\n",
       "      <td>0</td>\n",
       "      <td>12 years experience</td>\n",
       "      <td>0%</td>\n",
       "      <td>Bannerghatta Road, Bangalore</td>\n",
       "      <td>Ayurveda</td>\n",
       "      <td>1.0</td>\n",
       "      <td>250</td>\n",
       "    </tr>\n",
       "    <tr>\n",
       "      <th>4</th>\n",
       "      <td>0</td>\n",
       "      <td>0</td>\n",
       "      <td>1</td>\n",
       "      <td>0</td>\n",
       "      <td>1</td>\n",
       "      <td>0</td>\n",
       "      <td>0</td>\n",
       "      <td>0</td>\n",
       "      <td>0</td>\n",
       "      <td>0</td>\n",
       "      <td>20 years experience</td>\n",
       "      <td>100%</td>\n",
       "      <td>Keelkattalai, Chennai</td>\n",
       "      <td>Ayurveda</td>\n",
       "      <td>1.0</td>\n",
       "      <td>250</td>\n",
       "    </tr>\n",
       "  </tbody>\n",
       "</table>\n",
       "</div>"
      ],
      "text/plain": [
       "   BDS  BHMS  BAMS  MBBS  MS  MD  DDVL  DLO  MDS  DDV           Experience  \\\n",
       "0    0     1     0     0   1   1     0    0    0    0  24 years experience   \n",
       "1    0     0     1     0   1   1     0    0    0    0  12 years experience   \n",
       "2    0     0     0     1   1   0     0    0    0    0   9 years experience   \n",
       "3    0     0     1     0   1   0     0    0    0    0  12 years experience   \n",
       "4    0     0     1     0   1   0     0    0    0    0  20 years experience   \n",
       "\n",
       "  Rating                         Place         Profile  Miscellaneous_Info  \\\n",
       "0   100%           Kakkanad, Ernakulam       Homeopath                 1.0   \n",
       "1    98%         Whitefield, Bangalore        Ayurveda                 1.0   \n",
       "2     0%    Mathikere - BEL, Bangalore  ENT Specialist                 0.0   \n",
       "3     0%  Bannerghatta Road, Bangalore        Ayurveda                 1.0   \n",
       "4   100%         Keelkattalai, Chennai        Ayurveda                 1.0   \n",
       "\n",
       "   Fees  \n",
       "0   100  \n",
       "1   350  \n",
       "2   300  \n",
       "3   250  \n",
       "4   250  "
      ]
     },
     "execution_count": 17,
     "metadata": {},
     "output_type": "execute_result"
    }
   ],
   "source": [
    "mx=fee.columns[10:]\n",
    "for i in mx:\n",
    "    col.append(i)\n",
    "fee.columns=col\n",
    "fee.head()"
   ]
  },
  {
   "cell_type": "markdown",
   "metadata": {},
   "source": [
    "###### Experience"
   ]
  },
  {
   "cell_type": "code",
   "execution_count": 18,
   "metadata": {},
   "outputs": [],
   "source": [
    "# we will remove the text part and keep only numeric part\n",
    "for i in fee[\"Experience\"].value_counts().index:\n",
    "    x=i.split()\n",
    "    fee[\"Experience\"].replace(i,int(x[0]),inplace=True)\n",
    "    "
   ]
  },
  {
   "cell_type": "code",
   "execution_count": 19,
   "metadata": {},
   "outputs": [
    {
     "data": {
      "text/html": [
       "<div>\n",
       "<style scoped>\n",
       "    .dataframe tbody tr th:only-of-type {\n",
       "        vertical-align: middle;\n",
       "    }\n",
       "\n",
       "    .dataframe tbody tr th {\n",
       "        vertical-align: top;\n",
       "    }\n",
       "\n",
       "    .dataframe thead th {\n",
       "        text-align: right;\n",
       "    }\n",
       "</style>\n",
       "<table border=\"1\" class=\"dataframe\">\n",
       "  <thead>\n",
       "    <tr style=\"text-align: right;\">\n",
       "      <th></th>\n",
       "      <th>BDS</th>\n",
       "      <th>BHMS</th>\n",
       "      <th>BAMS</th>\n",
       "      <th>MBBS</th>\n",
       "      <th>MS</th>\n",
       "      <th>MD</th>\n",
       "      <th>DDVL</th>\n",
       "      <th>DLO</th>\n",
       "      <th>MDS</th>\n",
       "      <th>DDV</th>\n",
       "      <th>Experience</th>\n",
       "      <th>Rating</th>\n",
       "      <th>Place</th>\n",
       "      <th>Profile</th>\n",
       "      <th>Miscellaneous_Info</th>\n",
       "      <th>Fees</th>\n",
       "    </tr>\n",
       "  </thead>\n",
       "  <tbody>\n",
       "    <tr>\n",
       "      <th>0</th>\n",
       "      <td>0</td>\n",
       "      <td>1</td>\n",
       "      <td>0</td>\n",
       "      <td>0</td>\n",
       "      <td>1</td>\n",
       "      <td>1</td>\n",
       "      <td>0</td>\n",
       "      <td>0</td>\n",
       "      <td>0</td>\n",
       "      <td>0</td>\n",
       "      <td>24</td>\n",
       "      <td>100%</td>\n",
       "      <td>Kakkanad, Ernakulam</td>\n",
       "      <td>Homeopath</td>\n",
       "      <td>1.0</td>\n",
       "      <td>100</td>\n",
       "    </tr>\n",
       "    <tr>\n",
       "      <th>1</th>\n",
       "      <td>0</td>\n",
       "      <td>0</td>\n",
       "      <td>1</td>\n",
       "      <td>0</td>\n",
       "      <td>1</td>\n",
       "      <td>1</td>\n",
       "      <td>0</td>\n",
       "      <td>0</td>\n",
       "      <td>0</td>\n",
       "      <td>0</td>\n",
       "      <td>12</td>\n",
       "      <td>98%</td>\n",
       "      <td>Whitefield, Bangalore</td>\n",
       "      <td>Ayurveda</td>\n",
       "      <td>1.0</td>\n",
       "      <td>350</td>\n",
       "    </tr>\n",
       "    <tr>\n",
       "      <th>2</th>\n",
       "      <td>0</td>\n",
       "      <td>0</td>\n",
       "      <td>0</td>\n",
       "      <td>1</td>\n",
       "      <td>1</td>\n",
       "      <td>0</td>\n",
       "      <td>0</td>\n",
       "      <td>0</td>\n",
       "      <td>0</td>\n",
       "      <td>0</td>\n",
       "      <td>9</td>\n",
       "      <td>0%</td>\n",
       "      <td>Mathikere - BEL, Bangalore</td>\n",
       "      <td>ENT Specialist</td>\n",
       "      <td>0.0</td>\n",
       "      <td>300</td>\n",
       "    </tr>\n",
       "    <tr>\n",
       "      <th>3</th>\n",
       "      <td>0</td>\n",
       "      <td>0</td>\n",
       "      <td>1</td>\n",
       "      <td>0</td>\n",
       "      <td>1</td>\n",
       "      <td>0</td>\n",
       "      <td>0</td>\n",
       "      <td>0</td>\n",
       "      <td>0</td>\n",
       "      <td>0</td>\n",
       "      <td>12</td>\n",
       "      <td>0%</td>\n",
       "      <td>Bannerghatta Road, Bangalore</td>\n",
       "      <td>Ayurveda</td>\n",
       "      <td>1.0</td>\n",
       "      <td>250</td>\n",
       "    </tr>\n",
       "    <tr>\n",
       "      <th>4</th>\n",
       "      <td>0</td>\n",
       "      <td>0</td>\n",
       "      <td>1</td>\n",
       "      <td>0</td>\n",
       "      <td>1</td>\n",
       "      <td>0</td>\n",
       "      <td>0</td>\n",
       "      <td>0</td>\n",
       "      <td>0</td>\n",
       "      <td>0</td>\n",
       "      <td>20</td>\n",
       "      <td>100%</td>\n",
       "      <td>Keelkattalai, Chennai</td>\n",
       "      <td>Ayurveda</td>\n",
       "      <td>1.0</td>\n",
       "      <td>250</td>\n",
       "    </tr>\n",
       "  </tbody>\n",
       "</table>\n",
       "</div>"
      ],
      "text/plain": [
       "   BDS  BHMS  BAMS  MBBS  MS  MD  DDVL  DLO  MDS  DDV  Experience Rating  \\\n",
       "0    0     1     0     0   1   1     0    0    0    0          24   100%   \n",
       "1    0     0     1     0   1   1     0    0    0    0          12    98%   \n",
       "2    0     0     0     1   1   0     0    0    0    0           9     0%   \n",
       "3    0     0     1     0   1   0     0    0    0    0          12     0%   \n",
       "4    0     0     1     0   1   0     0    0    0    0          20   100%   \n",
       "\n",
       "                          Place         Profile  Miscellaneous_Info  Fees  \n",
       "0           Kakkanad, Ernakulam       Homeopath                 1.0   100  \n",
       "1         Whitefield, Bangalore        Ayurveda                 1.0   350  \n",
       "2    Mathikere - BEL, Bangalore  ENT Specialist                 0.0   300  \n",
       "3  Bannerghatta Road, Bangalore        Ayurveda                 1.0   250  \n",
       "4         Keelkattalai, Chennai        Ayurveda                 1.0   250  "
      ]
     },
     "execution_count": 19,
     "metadata": {},
     "output_type": "execute_result"
    }
   ],
   "source": [
    "fee.head()"
   ]
  },
  {
   "cell_type": "markdown",
   "metadata": {},
   "source": [
    "###### Place"
   ]
  },
  {
   "cell_type": "code",
   "execution_count": 20,
   "metadata": {},
   "outputs": [],
   "source": [
    "fee[\"Area\"]=fee[\"Place\"].str.rsplit(',',1).str.get(0)\n",
    "fee[\"City\"]=fee[\"Place\"].str.rsplit(',',1).str.get(1)"
   ]
  },
  {
   "cell_type": "code",
   "execution_count": 21,
   "metadata": {
    "scrolled": true
   },
   "outputs": [],
   "source": [
    "fee=fee.drop('Place',axis=1)"
   ]
  },
  {
   "cell_type": "code",
   "execution_count": 22,
   "metadata": {
    "scrolled": true
   },
   "outputs": [
    {
     "data": {
      "text/html": [
       "<div>\n",
       "<style scoped>\n",
       "    .dataframe tbody tr th:only-of-type {\n",
       "        vertical-align: middle;\n",
       "    }\n",
       "\n",
       "    .dataframe tbody tr th {\n",
       "        vertical-align: top;\n",
       "    }\n",
       "\n",
       "    .dataframe thead th {\n",
       "        text-align: right;\n",
       "    }\n",
       "</style>\n",
       "<table border=\"1\" class=\"dataframe\">\n",
       "  <thead>\n",
       "    <tr style=\"text-align: right;\">\n",
       "      <th></th>\n",
       "      <th>BDS</th>\n",
       "      <th>BHMS</th>\n",
       "      <th>BAMS</th>\n",
       "      <th>MBBS</th>\n",
       "      <th>MS</th>\n",
       "      <th>MD</th>\n",
       "      <th>DDVL</th>\n",
       "      <th>DLO</th>\n",
       "      <th>MDS</th>\n",
       "      <th>DDV</th>\n",
       "      <th>Experience</th>\n",
       "      <th>Rating</th>\n",
       "      <th>Profile</th>\n",
       "      <th>Miscellaneous_Info</th>\n",
       "      <th>Fees</th>\n",
       "      <th>Area</th>\n",
       "      <th>City</th>\n",
       "    </tr>\n",
       "  </thead>\n",
       "  <tbody>\n",
       "    <tr>\n",
       "      <th>0</th>\n",
       "      <td>0</td>\n",
       "      <td>1</td>\n",
       "      <td>0</td>\n",
       "      <td>0</td>\n",
       "      <td>1</td>\n",
       "      <td>1</td>\n",
       "      <td>0</td>\n",
       "      <td>0</td>\n",
       "      <td>0</td>\n",
       "      <td>0</td>\n",
       "      <td>24</td>\n",
       "      <td>100%</td>\n",
       "      <td>Homeopath</td>\n",
       "      <td>1.0</td>\n",
       "      <td>100</td>\n",
       "      <td>Kakkanad</td>\n",
       "      <td>Ernakulam</td>\n",
       "    </tr>\n",
       "    <tr>\n",
       "      <th>1</th>\n",
       "      <td>0</td>\n",
       "      <td>0</td>\n",
       "      <td>1</td>\n",
       "      <td>0</td>\n",
       "      <td>1</td>\n",
       "      <td>1</td>\n",
       "      <td>0</td>\n",
       "      <td>0</td>\n",
       "      <td>0</td>\n",
       "      <td>0</td>\n",
       "      <td>12</td>\n",
       "      <td>98%</td>\n",
       "      <td>Ayurveda</td>\n",
       "      <td>1.0</td>\n",
       "      <td>350</td>\n",
       "      <td>Whitefield</td>\n",
       "      <td>Bangalore</td>\n",
       "    </tr>\n",
       "    <tr>\n",
       "      <th>2</th>\n",
       "      <td>0</td>\n",
       "      <td>0</td>\n",
       "      <td>0</td>\n",
       "      <td>1</td>\n",
       "      <td>1</td>\n",
       "      <td>0</td>\n",
       "      <td>0</td>\n",
       "      <td>0</td>\n",
       "      <td>0</td>\n",
       "      <td>0</td>\n",
       "      <td>9</td>\n",
       "      <td>0%</td>\n",
       "      <td>ENT Specialist</td>\n",
       "      <td>0.0</td>\n",
       "      <td>300</td>\n",
       "      <td>Mathikere - BEL</td>\n",
       "      <td>Bangalore</td>\n",
       "    </tr>\n",
       "    <tr>\n",
       "      <th>3</th>\n",
       "      <td>0</td>\n",
       "      <td>0</td>\n",
       "      <td>1</td>\n",
       "      <td>0</td>\n",
       "      <td>1</td>\n",
       "      <td>0</td>\n",
       "      <td>0</td>\n",
       "      <td>0</td>\n",
       "      <td>0</td>\n",
       "      <td>0</td>\n",
       "      <td>12</td>\n",
       "      <td>0%</td>\n",
       "      <td>Ayurveda</td>\n",
       "      <td>1.0</td>\n",
       "      <td>250</td>\n",
       "      <td>Bannerghatta Road</td>\n",
       "      <td>Bangalore</td>\n",
       "    </tr>\n",
       "    <tr>\n",
       "      <th>4</th>\n",
       "      <td>0</td>\n",
       "      <td>0</td>\n",
       "      <td>1</td>\n",
       "      <td>0</td>\n",
       "      <td>1</td>\n",
       "      <td>0</td>\n",
       "      <td>0</td>\n",
       "      <td>0</td>\n",
       "      <td>0</td>\n",
       "      <td>0</td>\n",
       "      <td>20</td>\n",
       "      <td>100%</td>\n",
       "      <td>Ayurveda</td>\n",
       "      <td>1.0</td>\n",
       "      <td>250</td>\n",
       "      <td>Keelkattalai</td>\n",
       "      <td>Chennai</td>\n",
       "    </tr>\n",
       "  </tbody>\n",
       "</table>\n",
       "</div>"
      ],
      "text/plain": [
       "   BDS  BHMS  BAMS  MBBS  MS  MD  DDVL  DLO  MDS  DDV  Experience Rating  \\\n",
       "0    0     1     0     0   1   1     0    0    0    0          24   100%   \n",
       "1    0     0     1     0   1   1     0    0    0    0          12    98%   \n",
       "2    0     0     0     1   1   0     0    0    0    0           9     0%   \n",
       "3    0     0     1     0   1   0     0    0    0    0          12     0%   \n",
       "4    0     0     1     0   1   0     0    0    0    0          20   100%   \n",
       "\n",
       "          Profile  Miscellaneous_Info  Fees               Area        City  \n",
       "0       Homeopath                 1.0   100           Kakkanad   Ernakulam  \n",
       "1        Ayurveda                 1.0   350         Whitefield   Bangalore  \n",
       "2  ENT Specialist                 0.0   300    Mathikere - BEL   Bangalore  \n",
       "3        Ayurveda                 1.0   250  Bannerghatta Road   Bangalore  \n",
       "4        Ayurveda                 1.0   250       Keelkattalai     Chennai  "
      ]
     },
     "execution_count": 22,
     "metadata": {},
     "output_type": "execute_result"
    }
   ],
   "source": [
    "fee.head()"
   ]
  },
  {
   "cell_type": "code",
   "execution_count": 23,
   "metadata": {},
   "outputs": [
    {
     "data": {
      "text/plain": [
       "Text(0, 0.5, 'Fee')"
      ]
     },
     "execution_count": 23,
     "metadata": {},
     "output_type": "execute_result"
    },
    {
     "data": {
      "image/png": "[encoded data removed]",
      "text/plain": [
       "<Figure size 1440x576 with 1 Axes>"
      ]
     },
     "metadata": {
      "needs_background": "light"
     },
     "output_type": "display_data"
    }
   ],
   "source": [
    "plt.figure(figsize=(20,8))\n",
    "sns.barplot(x=\"City\",y=\"Fees\",data=fee)\n",
    "plt.title(\"Area \")\n",
    "plt.xlabel(\"Fee vs City\")\n",
    "plt.xticks(rotation=45)\n",
    "plt.ylabel(\"Fee\")"
   ]
  },
  {
   "cell_type": "markdown",
   "metadata": {},
   "source": [
    "# Encoding"
   ]
  },
  {
   "cell_type": "code",
   "execution_count": 24,
   "metadata": {},
   "outputs": [
    {
     "data": {
      "text/html": [
       "<div>\n",
       "<style scoped>\n",
       "    .dataframe tbody tr th:only-of-type {\n",
       "        vertical-align: middle;\n",
       "    }\n",
       "\n",
       "    .dataframe tbody tr th {\n",
       "        vertical-align: top;\n",
       "    }\n",
       "\n",
       "    .dataframe thead th {\n",
       "        text-align: right;\n",
       "    }\n",
       "</style>\n",
       "<table border=\"1\" class=\"dataframe\">\n",
       "  <thead>\n",
       "    <tr style=\"text-align: right;\">\n",
       "      <th></th>\n",
       "      <th>BDS</th>\n",
       "      <th>BHMS</th>\n",
       "      <th>BAMS</th>\n",
       "      <th>MBBS</th>\n",
       "      <th>MS</th>\n",
       "      <th>MD</th>\n",
       "      <th>DDVL</th>\n",
       "      <th>DLO</th>\n",
       "      <th>MDS</th>\n",
       "      <th>DDV</th>\n",
       "      <th>Experience</th>\n",
       "      <th>Rating</th>\n",
       "      <th>Profile</th>\n",
       "      <th>Miscellaneous_Info</th>\n",
       "      <th>Fees</th>\n",
       "      <th>Area</th>\n",
       "      <th>City</th>\n",
       "    </tr>\n",
       "  </thead>\n",
       "  <tbody>\n",
       "    <tr>\n",
       "      <th>0</th>\n",
       "      <td>0</td>\n",
       "      <td>1</td>\n",
       "      <td>0</td>\n",
       "      <td>0</td>\n",
       "      <td>1</td>\n",
       "      <td>1</td>\n",
       "      <td>0</td>\n",
       "      <td>0</td>\n",
       "      <td>0</td>\n",
       "      <td>0</td>\n",
       "      <td>24</td>\n",
       "      <td>1</td>\n",
       "      <td>5</td>\n",
       "      <td>1.0</td>\n",
       "      <td>100</td>\n",
       "      <td>297</td>\n",
       "      <td>4</td>\n",
       "    </tr>\n",
       "    <tr>\n",
       "      <th>1</th>\n",
       "      <td>0</td>\n",
       "      <td>0</td>\n",
       "      <td>1</td>\n",
       "      <td>0</td>\n",
       "      <td>1</td>\n",
       "      <td>1</td>\n",
       "      <td>0</td>\n",
       "      <td>0</td>\n",
       "      <td>0</td>\n",
       "      <td>0</td>\n",
       "      <td>12</td>\n",
       "      <td>50</td>\n",
       "      <td>0</td>\n",
       "      <td>1.0</td>\n",
       "      <td>350</td>\n",
       "      <td>857</td>\n",
       "      <td>0</td>\n",
       "    </tr>\n",
       "    <tr>\n",
       "      <th>2</th>\n",
       "      <td>0</td>\n",
       "      <td>0</td>\n",
       "      <td>0</td>\n",
       "      <td>1</td>\n",
       "      <td>1</td>\n",
       "      <td>0</td>\n",
       "      <td>0</td>\n",
       "      <td>0</td>\n",
       "      <td>0</td>\n",
       "      <td>0</td>\n",
       "      <td>9</td>\n",
       "      <td>0</td>\n",
       "      <td>3</td>\n",
       "      <td>0.0</td>\n",
       "      <td>300</td>\n",
       "      <td>453</td>\n",
       "      <td>0</td>\n",
       "    </tr>\n",
       "    <tr>\n",
       "      <th>3</th>\n",
       "      <td>0</td>\n",
       "      <td>0</td>\n",
       "      <td>1</td>\n",
       "      <td>0</td>\n",
       "      <td>1</td>\n",
       "      <td>0</td>\n",
       "      <td>0</td>\n",
       "      <td>0</td>\n",
       "      <td>0</td>\n",
       "      <td>0</td>\n",
       "      <td>12</td>\n",
       "      <td>0</td>\n",
       "      <td>0</td>\n",
       "      <td>1.0</td>\n",
       "      <td>250</td>\n",
       "      <td>68</td>\n",
       "      <td>0</td>\n",
       "    </tr>\n",
       "    <tr>\n",
       "      <th>4</th>\n",
       "      <td>0</td>\n",
       "      <td>0</td>\n",
       "      <td>1</td>\n",
       "      <td>0</td>\n",
       "      <td>1</td>\n",
       "      <td>0</td>\n",
       "      <td>0</td>\n",
       "      <td>0</td>\n",
       "      <td>0</td>\n",
       "      <td>0</td>\n",
       "      <td>20</td>\n",
       "      <td>1</td>\n",
       "      <td>0</td>\n",
       "      <td>1.0</td>\n",
       "      <td>250</td>\n",
       "      <td>336</td>\n",
       "      <td>1</td>\n",
       "    </tr>\n",
       "  </tbody>\n",
       "</table>\n",
       "</div>"
      ],
      "text/plain": [
       "   BDS  BHMS  BAMS  MBBS  MS  MD  DDVL  DLO  MDS  DDV  Experience  Rating  \\\n",
       "0    0     1     0     0   1   1     0    0    0    0          24       1   \n",
       "1    0     0     1     0   1   1     0    0    0    0          12      50   \n",
       "2    0     0     0     1   1   0     0    0    0    0           9       0   \n",
       "3    0     0     1     0   1   0     0    0    0    0          12       0   \n",
       "4    0     0     1     0   1   0     0    0    0    0          20       1   \n",
       "\n",
       "   Profile  Miscellaneous_Info  Fees  Area  City  \n",
       "0        5                 1.0   100   297     4  \n",
       "1        0                 1.0   350   857     0  \n",
       "2        3                 0.0   300   453     0  \n",
       "3        0                 1.0   250    68     0  \n",
       "4        0                 1.0   250   336     1  "
      ]
     },
     "execution_count": 24,
     "metadata": {},
     "output_type": "execute_result"
    }
   ],
   "source": [
    "from sklearn.preprocessing import LabelEncoder\n",
    "le = LabelEncoder()\n",
    "\n",
    "fee[\"Rating\"]=le.fit_transform(fee[\"Rating\"])\n",
    "fee[\"Profile\"]=le.fit_transform(fee[\"Profile\"])\n",
    "fee[\"Area\"]=le.fit_transform(fee[\"Area\"])\n",
    "fee[\"City\"]=le.fit_transform(fee[\"City\"].astype(str))\n",
    "fee.head()"
   ]
  },
  {
   "cell_type": "code",
   "execution_count": 25,
   "metadata": {
    "scrolled": true
   },
   "outputs": [],
   "source": [
    "# Created a datafram making all qualification one column\n",
    "col1=['BDS','BHMS','BAMS','MBBS','MS','MD','DDVL','DLO','MDS','DDV']\n",
    "summ=np.zeros(len(fee))\n",
    "for i in col1:\n",
    "    arr=fee[i]\n",
    "    summ=np.add(summ,arr)\n",
    "temp_df=pd.DataFrame({'qual':summ,'fees':fee['Fees']}) \n"
   ]
  },
  {
   "cell_type": "markdown",
   "metadata": {},
   "source": [
    "# Correlation with target variable"
   ]
  },
  {
   "cell_type": "code",
   "execution_count": 26,
   "metadata": {},
   "outputs": [
    {
     "data": {
      "text/plain": [
       "<matplotlib.collections.PathCollection at 0x1dd1279ad30>"
      ]
     },
     "execution_count": 26,
     "metadata": {},
     "output_type": "execute_result"
    },
    {
     "data": {
      "image/png": "[encoded data removed]",
      "text/plain": [
       "<Figure size 432x288 with 1 Axes>"
      ]
     },
     "metadata": {
      "needs_background": "light"
     },
     "output_type": "display_data"
    }
   ],
   "source": [
    "plt.scatter(temp_df['qual'],temp_df['fees'])"
   ]
  },
  {
   "cell_type": "code",
   "execution_count": 27,
   "metadata": {},
   "outputs": [
    {
     "data": {
      "text/plain": [
       "<AxesSubplot:xlabel='qual', ylabel='fees'>"
      ]
     },
     "execution_count": 27,
     "metadata": {},
     "output_type": "execute_result"
    },
    {
     "data": {
      "image/png": "[encoded data removed]",
      "text/plain": [
       "<Figure size 432x288 with 1 Axes>"
      ]
     },
     "metadata": {
      "needs_background": "light"
     },
     "output_type": "display_data"
    }
   ],
   "source": [
    "sns.barplot(x=temp_df['qual'],y=temp_df['fees'],data=temp_df.sort_values(\"fees\"))"
   ]
  },
  {
   "cell_type": "code",
   "execution_count": 28,
   "metadata": {},
   "outputs": [
    {
     "data": {
      "image/png": "[encoded data removed]",
      "text/plain": [
       "<Figure size 648x432 with 1 Axes>"
      ]
     },
     "metadata": {
      "needs_background": "light"
     },
     "output_type": "display_data"
    }
   ],
   "source": [
    "sns.catplot(x='qual',y='fees', data=temp_df.sort_values(\"fees\"),kind='box',height=6,aspect= 1.5,color='r')\n",
    "plt.show()"
   ]
  },
  {
   "cell_type": "raw",
   "metadata": {},
   "source": [
    "Observation:\n",
    "1.With increase of qualification fees also increase"
   ]
  },
  {
   "cell_type": "code",
   "execution_count": 29,
   "metadata": {},
   "outputs": [
    {
     "data": {
      "text/html": [
       "<div>\n",
       "<style scoped>\n",
       "    .dataframe tbody tr th:only-of-type {\n",
       "        vertical-align: middle;\n",
       "    }\n",
       "\n",
       "    .dataframe tbody tr th {\n",
       "        vertical-align: top;\n",
       "    }\n",
       "\n",
       "    .dataframe thead th {\n",
       "        text-align: right;\n",
       "    }\n",
       "</style>\n",
       "<table border=\"1\" class=\"dataframe\">\n",
       "  <thead>\n",
       "    <tr style=\"text-align: right;\">\n",
       "      <th></th>\n",
       "      <th>qual</th>\n",
       "      <th>fees</th>\n",
       "      <th>BDS</th>\n",
       "      <th>BHMS</th>\n",
       "      <th>BAMS</th>\n",
       "      <th>MBBS</th>\n",
       "      <th>MS</th>\n",
       "      <th>MD</th>\n",
       "      <th>DDVL</th>\n",
       "      <th>DLO</th>\n",
       "      <th>MDS</th>\n",
       "      <th>DDV</th>\n",
       "      <th>Experience</th>\n",
       "      <th>Rating</th>\n",
       "      <th>Profile</th>\n",
       "      <th>Miscellaneous_Info</th>\n",
       "      <th>Fees</th>\n",
       "      <th>Area</th>\n",
       "      <th>City</th>\n",
       "    </tr>\n",
       "  </thead>\n",
       "  <tbody>\n",
       "    <tr>\n",
       "      <th>0</th>\n",
       "      <td>3.0</td>\n",
       "      <td>100</td>\n",
       "      <td>0</td>\n",
       "      <td>1</td>\n",
       "      <td>0</td>\n",
       "      <td>0</td>\n",
       "      <td>1</td>\n",
       "      <td>1</td>\n",
       "      <td>0</td>\n",
       "      <td>0</td>\n",
       "      <td>0</td>\n",
       "      <td>0</td>\n",
       "      <td>24</td>\n",
       "      <td>1</td>\n",
       "      <td>5</td>\n",
       "      <td>1.0</td>\n",
       "      <td>100</td>\n",
       "      <td>297</td>\n",
       "      <td>4</td>\n",
       "    </tr>\n",
       "    <tr>\n",
       "      <th>1</th>\n",
       "      <td>3.0</td>\n",
       "      <td>350</td>\n",
       "      <td>0</td>\n",
       "      <td>0</td>\n",
       "      <td>1</td>\n",
       "      <td>0</td>\n",
       "      <td>1</td>\n",
       "      <td>1</td>\n",
       "      <td>0</td>\n",
       "      <td>0</td>\n",
       "      <td>0</td>\n",
       "      <td>0</td>\n",
       "      <td>12</td>\n",
       "      <td>50</td>\n",
       "      <td>0</td>\n",
       "      <td>1.0</td>\n",
       "      <td>350</td>\n",
       "      <td>857</td>\n",
       "      <td>0</td>\n",
       "    </tr>\n",
       "    <tr>\n",
       "      <th>2</th>\n",
       "      <td>2.0</td>\n",
       "      <td>300</td>\n",
       "      <td>0</td>\n",
       "      <td>0</td>\n",
       "      <td>0</td>\n",
       "      <td>1</td>\n",
       "      <td>1</td>\n",
       "      <td>0</td>\n",
       "      <td>0</td>\n",
       "      <td>0</td>\n",
       "      <td>0</td>\n",
       "      <td>0</td>\n",
       "      <td>9</td>\n",
       "      <td>0</td>\n",
       "      <td>3</td>\n",
       "      <td>0.0</td>\n",
       "      <td>300</td>\n",
       "      <td>453</td>\n",
       "      <td>0</td>\n",
       "    </tr>\n",
       "    <tr>\n",
       "      <th>3</th>\n",
       "      <td>2.0</td>\n",
       "      <td>250</td>\n",
       "      <td>0</td>\n",
       "      <td>0</td>\n",
       "      <td>1</td>\n",
       "      <td>0</td>\n",
       "      <td>1</td>\n",
       "      <td>0</td>\n",
       "      <td>0</td>\n",
       "      <td>0</td>\n",
       "      <td>0</td>\n",
       "      <td>0</td>\n",
       "      <td>12</td>\n",
       "      <td>0</td>\n",
       "      <td>0</td>\n",
       "      <td>1.0</td>\n",
       "      <td>250</td>\n",
       "      <td>68</td>\n",
       "      <td>0</td>\n",
       "    </tr>\n",
       "    <tr>\n",
       "      <th>4</th>\n",
       "      <td>2.0</td>\n",
       "      <td>250</td>\n",
       "      <td>0</td>\n",
       "      <td>0</td>\n",
       "      <td>1</td>\n",
       "      <td>0</td>\n",
       "      <td>1</td>\n",
       "      <td>0</td>\n",
       "      <td>0</td>\n",
       "      <td>0</td>\n",
       "      <td>0</td>\n",
       "      <td>0</td>\n",
       "      <td>20</td>\n",
       "      <td>1</td>\n",
       "      <td>0</td>\n",
       "      <td>1.0</td>\n",
       "      <td>250</td>\n",
       "      <td>336</td>\n",
       "      <td>1</td>\n",
       "    </tr>\n",
       "  </tbody>\n",
       "</table>\n",
       "</div>"
      ],
      "text/plain": [
       "   qual  fees  BDS  BHMS  BAMS  MBBS  MS  MD  DDVL  DLO  MDS  DDV  Experience  \\\n",
       "0   3.0   100    0     1     0     0   1   1     0    0    0    0          24   \n",
       "1   3.0   350    0     0     1     0   1   1     0    0    0    0          12   \n",
       "2   2.0   300    0     0     0     1   1   0     0    0    0    0           9   \n",
       "3   2.0   250    0     0     1     0   1   0     0    0    0    0          12   \n",
       "4   2.0   250    0     0     1     0   1   0     0    0    0    0          20   \n",
       "\n",
       "   Rating  Profile  Miscellaneous_Info  Fees  Area  City  \n",
       "0       1        5                 1.0   100   297     4  \n",
       "1      50        0                 1.0   350   857     0  \n",
       "2       0        3                 0.0   300   453     0  \n",
       "3       0        0                 1.0   250    68     0  \n",
       "4       1        0                 1.0   250   336     1  "
      ]
     },
     "execution_count": 29,
     "metadata": {},
     "output_type": "execute_result"
    }
   ],
   "source": [
    "fee=pd.concat([temp_df,fee],axis=1)\n",
    "fee.head()"
   ]
  },
  {
   "cell_type": "code",
   "execution_count": 30,
   "metadata": {},
   "outputs": [
    {
     "data": {
      "text/html": [
       "<div>\n",
       "<style scoped>\n",
       "    .dataframe tbody tr th:only-of-type {\n",
       "        vertical-align: middle;\n",
       "    }\n",
       "\n",
       "    .dataframe tbody tr th {\n",
       "        vertical-align: top;\n",
       "    }\n",
       "\n",
       "    .dataframe thead th {\n",
       "        text-align: right;\n",
       "    }\n",
       "</style>\n",
       "<table border=\"1\" class=\"dataframe\">\n",
       "  <thead>\n",
       "    <tr style=\"text-align: right;\">\n",
       "      <th></th>\n",
       "      <th>qual</th>\n",
       "      <th>Experience</th>\n",
       "      <th>Rating</th>\n",
       "      <th>Profile</th>\n",
       "      <th>Miscellaneous_Info</th>\n",
       "      <th>Fees</th>\n",
       "      <th>Area</th>\n",
       "      <th>City</th>\n",
       "    </tr>\n",
       "  </thead>\n",
       "  <tbody>\n",
       "    <tr>\n",
       "      <th>0</th>\n",
       "      <td>3.0</td>\n",
       "      <td>24</td>\n",
       "      <td>1</td>\n",
       "      <td>5</td>\n",
       "      <td>1.0</td>\n",
       "      <td>100</td>\n",
       "      <td>297</td>\n",
       "      <td>4</td>\n",
       "    </tr>\n",
       "    <tr>\n",
       "      <th>1</th>\n",
       "      <td>3.0</td>\n",
       "      <td>12</td>\n",
       "      <td>50</td>\n",
       "      <td>0</td>\n",
       "      <td>1.0</td>\n",
       "      <td>350</td>\n",
       "      <td>857</td>\n",
       "      <td>0</td>\n",
       "    </tr>\n",
       "    <tr>\n",
       "      <th>2</th>\n",
       "      <td>2.0</td>\n",
       "      <td>9</td>\n",
       "      <td>0</td>\n",
       "      <td>3</td>\n",
       "      <td>0.0</td>\n",
       "      <td>300</td>\n",
       "      <td>453</td>\n",
       "      <td>0</td>\n",
       "    </tr>\n",
       "    <tr>\n",
       "      <th>3</th>\n",
       "      <td>2.0</td>\n",
       "      <td>12</td>\n",
       "      <td>0</td>\n",
       "      <td>0</td>\n",
       "      <td>1.0</td>\n",
       "      <td>250</td>\n",
       "      <td>68</td>\n",
       "      <td>0</td>\n",
       "    </tr>\n",
       "    <tr>\n",
       "      <th>4</th>\n",
       "      <td>2.0</td>\n",
       "      <td>20</td>\n",
       "      <td>1</td>\n",
       "      <td>0</td>\n",
       "      <td>1.0</td>\n",
       "      <td>250</td>\n",
       "      <td>336</td>\n",
       "      <td>1</td>\n",
       "    </tr>\n",
       "    <tr>\n",
       "      <th>...</th>\n",
       "      <td>...</td>\n",
       "      <td>...</td>\n",
       "      <td>...</td>\n",
       "      <td>...</td>\n",
       "      <td>...</td>\n",
       "      <td>...</td>\n",
       "      <td>...</td>\n",
       "      <td>...</td>\n",
       "    </tr>\n",
       "    <tr>\n",
       "      <th>5956</th>\n",
       "      <td>2.0</td>\n",
       "      <td>19</td>\n",
       "      <td>50</td>\n",
       "      <td>3</td>\n",
       "      <td>1.0</td>\n",
       "      <td>300</td>\n",
       "      <td>70</td>\n",
       "      <td>0</td>\n",
       "    </tr>\n",
       "    <tr>\n",
       "      <th>5957</th>\n",
       "      <td>1.0</td>\n",
       "      <td>33</td>\n",
       "      <td>0</td>\n",
       "      <td>4</td>\n",
       "      <td>0.0</td>\n",
       "      <td>100</td>\n",
       "      <td>537</td>\n",
       "      <td>1</td>\n",
       "    </tr>\n",
       "    <tr>\n",
       "      <th>5958</th>\n",
       "      <td>1.0</td>\n",
       "      <td>41</td>\n",
       "      <td>49</td>\n",
       "      <td>4</td>\n",
       "      <td>1.0</td>\n",
       "      <td>600</td>\n",
       "      <td>216</td>\n",
       "      <td>3</td>\n",
       "    </tr>\n",
       "    <tr>\n",
       "      <th>5959</th>\n",
       "      <td>2.0</td>\n",
       "      <td>15</td>\n",
       "      <td>42</td>\n",
       "      <td>4</td>\n",
       "      <td>1.0</td>\n",
       "      <td>100</td>\n",
       "      <td>842</td>\n",
       "      <td>6</td>\n",
       "    </tr>\n",
       "    <tr>\n",
       "      <th>5960</th>\n",
       "      <td>3.0</td>\n",
       "      <td>17</td>\n",
       "      <td>1</td>\n",
       "      <td>1</td>\n",
       "      <td>1.0</td>\n",
       "      <td>200</td>\n",
       "      <td>599</td>\n",
       "      <td>3</td>\n",
       "    </tr>\n",
       "  </tbody>\n",
       "</table>\n",
       "<p>5961 rows × 8 columns</p>\n",
       "</div>"
      ],
      "text/plain": [
       "      qual  Experience  Rating  Profile  Miscellaneous_Info  Fees  Area  City\n",
       "0      3.0          24       1        5                 1.0   100   297     4\n",
       "1      3.0          12      50        0                 1.0   350   857     0\n",
       "2      2.0           9       0        3                 0.0   300   453     0\n",
       "3      2.0          12       0        0                 1.0   250    68     0\n",
       "4      2.0          20       1        0                 1.0   250   336     1\n",
       "...    ...         ...     ...      ...                 ...   ...   ...   ...\n",
       "5956   2.0          19      50        3                 1.0   300    70     0\n",
       "5957   1.0          33       0        4                 0.0   100   537     1\n",
       "5958   1.0          41      49        4                 1.0   600   216     3\n",
       "5959   2.0          15      42        4                 1.0   100   842     6\n",
       "5960   3.0          17       1        1                 1.0   200   599     3\n",
       "\n",
       "[5961 rows x 8 columns]"
      ]
     },
     "execution_count": 30,
     "metadata": {},
     "output_type": "execute_result"
    }
   ],
   "source": [
    "fee=fee.drop(['fees','BDS','BHMS','BAMS','MBBS','MS','MD','DDVL','DLO','MDS','DDV'],axis=1)\n",
    "fee"
   ]
  },
  {
   "cell_type": "code",
   "execution_count": 31,
   "metadata": {},
   "outputs": [
    {
     "data": {
      "text/html": [
       "<div>\n",
       "<style scoped>\n",
       "    .dataframe tbody tr th:only-of-type {\n",
       "        vertical-align: middle;\n",
       "    }\n",
       "\n",
       "    .dataframe tbody tr th {\n",
       "        vertical-align: top;\n",
       "    }\n",
       "\n",
       "    .dataframe thead th {\n",
       "        text-align: right;\n",
       "    }\n",
       "</style>\n",
       "<table border=\"1\" class=\"dataframe\">\n",
       "  <thead>\n",
       "    <tr style=\"text-align: right;\">\n",
       "      <th></th>\n",
       "      <th>qual</th>\n",
       "      <th>Experience</th>\n",
       "      <th>Rating</th>\n",
       "      <th>Profile</th>\n",
       "      <th>Miscellaneous_Info</th>\n",
       "      <th>Fees</th>\n",
       "      <th>Area</th>\n",
       "      <th>City</th>\n",
       "    </tr>\n",
       "  </thead>\n",
       "  <tbody>\n",
       "    <tr>\n",
       "      <th>qual</th>\n",
       "      <td>1.000000</td>\n",
       "      <td>-0.093062</td>\n",
       "      <td>0.133633</td>\n",
       "      <td>-0.166486</td>\n",
       "      <td>0.135814</td>\n",
       "      <td>0.079947</td>\n",
       "      <td>-0.007229</td>\n",
       "      <td>-0.041649</td>\n",
       "    </tr>\n",
       "    <tr>\n",
       "      <th>Experience</th>\n",
       "      <td>-0.093062</td>\n",
       "      <td>1.000000</td>\n",
       "      <td>0.033027</td>\n",
       "      <td>0.202073</td>\n",
       "      <td>-0.120359</td>\n",
       "      <td>0.002117</td>\n",
       "      <td>0.008512</td>\n",
       "      <td>0.017650</td>\n",
       "    </tr>\n",
       "    <tr>\n",
       "      <th>Rating</th>\n",
       "      <td>0.133633</td>\n",
       "      <td>0.033027</td>\n",
       "      <td>1.000000</td>\n",
       "      <td>-0.102447</td>\n",
       "      <td>0.581560</td>\n",
       "      <td>0.143121</td>\n",
       "      <td>-0.035260</td>\n",
       "      <td>-0.094580</td>\n",
       "    </tr>\n",
       "    <tr>\n",
       "      <th>Profile</th>\n",
       "      <td>-0.166486</td>\n",
       "      <td>0.202073</td>\n",
       "      <td>-0.102447</td>\n",
       "      <td>1.000000</td>\n",
       "      <td>-0.170498</td>\n",
       "      <td>0.145226</td>\n",
       "      <td>0.018157</td>\n",
       "      <td>-0.015087</td>\n",
       "    </tr>\n",
       "    <tr>\n",
       "      <th>Miscellaneous_Info</th>\n",
       "      <td>0.135814</td>\n",
       "      <td>-0.120359</td>\n",
       "      <td>0.581560</td>\n",
       "      <td>-0.170498</td>\n",
       "      <td>1.000000</td>\n",
       "      <td>0.168466</td>\n",
       "      <td>-0.037264</td>\n",
       "      <td>-0.095592</td>\n",
       "    </tr>\n",
       "    <tr>\n",
       "      <th>Fees</th>\n",
       "      <td>0.079947</td>\n",
       "      <td>0.002117</td>\n",
       "      <td>0.143121</td>\n",
       "      <td>0.145226</td>\n",
       "      <td>0.168466</td>\n",
       "      <td>1.000000</td>\n",
       "      <td>-0.058247</td>\n",
       "      <td>-0.035914</td>\n",
       "    </tr>\n",
       "    <tr>\n",
       "      <th>Area</th>\n",
       "      <td>-0.007229</td>\n",
       "      <td>0.008512</td>\n",
       "      <td>-0.035260</td>\n",
       "      <td>0.018157</td>\n",
       "      <td>-0.037264</td>\n",
       "      <td>-0.058247</td>\n",
       "      <td>1.000000</td>\n",
       "      <td>-0.084822</td>\n",
       "    </tr>\n",
       "    <tr>\n",
       "      <th>City</th>\n",
       "      <td>-0.041649</td>\n",
       "      <td>0.017650</td>\n",
       "      <td>-0.094580</td>\n",
       "      <td>-0.015087</td>\n",
       "      <td>-0.095592</td>\n",
       "      <td>-0.035914</td>\n",
       "      <td>-0.084822</td>\n",
       "      <td>1.000000</td>\n",
       "    </tr>\n",
       "  </tbody>\n",
       "</table>\n",
       "</div>"
      ],
      "text/plain": [
       "                        qual  Experience    Rating   Profile  \\\n",
       "qual                1.000000   -0.093062  0.133633 -0.166486   \n",
       "Experience         -0.093062    1.000000  0.033027  0.202073   \n",
       "Rating              0.133633    0.033027  1.000000 -0.102447   \n",
       "Profile            -0.166486    0.202073 -0.102447  1.000000   \n",
       "Miscellaneous_Info  0.135814   -0.120359  0.581560 -0.170498   \n",
       "Fees                0.079947    0.002117  0.143121  0.145226   \n",
       "Area               -0.007229    0.008512 -0.035260  0.018157   \n",
       "City               -0.041649    0.017650 -0.094580 -0.015087   \n",
       "\n",
       "                    Miscellaneous_Info      Fees      Area      City  \n",
       "qual                          0.135814  0.079947 -0.007229 -0.041649  \n",
       "Experience                   -0.120359  0.002117  0.008512  0.017650  \n",
       "Rating                        0.581560  0.143121 -0.035260 -0.094580  \n",
       "Profile                      -0.170498  0.145226  0.018157 -0.015087  \n",
       "Miscellaneous_Info            1.000000  0.168466 -0.037264 -0.095592  \n",
       "Fees                          0.168466  1.000000 -0.058247 -0.035914  \n",
       "Area                         -0.037264 -0.058247  1.000000 -0.084822  \n",
       "City                         -0.095592 -0.035914 -0.084822  1.000000  "
      ]
     },
     "execution_count": 31,
     "metadata": {},
     "output_type": "execute_result"
    }
   ],
   "source": [
    "corr=fee.corr()\n",
    "corr"
   ]
  },
  {
   "cell_type": "code",
   "execution_count": 32,
   "metadata": {},
   "outputs": [
    {
     "data": {
      "text/plain": [
       "<AxesSubplot:>"
      ]
     },
     "execution_count": 32,
     "metadata": {},
     "output_type": "execute_result"
    },
    {
     "data": {
      "image/png": "[encoded data removed]",
      "text/plain": [
       "<Figure size 576x576 with 2 Axes>"
      ]
     },
     "metadata": {
      "needs_background": "light"
     },
     "output_type": "display_data"
    }
   ],
   "source": [
    "plt.figure(figsize=(8,8))\n",
    "sns.heatmap(corr,annot=True,fmt=\".0%\",cmap=\"Blues\")"
   ]
  },
  {
   "cell_type": "code",
   "execution_count": 33,
   "metadata": {},
   "outputs": [
    {
     "data": {
      "text/plain": [
       "Text(0.5, 1.0, 'Correlation with Target variable')"
      ]
     },
     "execution_count": 33,
     "metadata": {},
     "output_type": "execute_result"
    },
    {
     "data": {
      "image/png": "[encoded data removed]",
      "text/plain": [
       "<Figure size 864x576 with 1 Axes>"
      ]
     },
     "metadata": {
      "needs_background": "light"
     },
     "output_type": "display_data"
    }
   ],
   "source": [
    "plt.figure(figsize=(12,8))\n",
    "fee.drop(\"Fees\",axis=1).corrwith(fee[\"Fees\"]).plot(kind=\"bar\",grid=True)\n",
    "plt.xticks(rotation=45)\n",
    "plt.title(\"Correlation with Target variable\")"
   ]
  },
  {
   "cell_type": "raw",
   "metadata": {},
   "source": [
    "observation:\n",
    "1.qual.Experience,Rating,Profile,Miscellaneous_info are positively correlated\n",
    "2.Area,City are negatively correlated\n",
    "3.Miscellaneous_info is hightly correlated"
   ]
  },
  {
   "cell_type": "markdown",
   "metadata": {},
   "source": [
    "# Test data"
   ]
  },
  {
   "cell_type": "code",
   "execution_count": 34,
   "metadata": {},
   "outputs": [
    {
     "data": {
      "text/html": [
       "<div>\n",
       "<style scoped>\n",
       "    .dataframe tbody tr th:only-of-type {\n",
       "        vertical-align: middle;\n",
       "    }\n",
       "\n",
       "    .dataframe tbody tr th {\n",
       "        vertical-align: top;\n",
       "    }\n",
       "\n",
       "    .dataframe thead th {\n",
       "        text-align: right;\n",
       "    }\n",
       "</style>\n",
       "<table border=\"1\" class=\"dataframe\">\n",
       "  <thead>\n",
       "    <tr style=\"text-align: right;\">\n",
       "      <th></th>\n",
       "      <th>Qualification</th>\n",
       "      <th>Experience</th>\n",
       "      <th>Rating</th>\n",
       "      <th>Place</th>\n",
       "      <th>Profile</th>\n",
       "      <th>Miscellaneous_Info</th>\n",
       "    </tr>\n",
       "  </thead>\n",
       "  <tbody>\n",
       "    <tr>\n",
       "      <th>0</th>\n",
       "      <td>MBBS</td>\n",
       "      <td>35 years experience</td>\n",
       "      <td>NaN</td>\n",
       "      <td>Ghatkopar East, Mumbai</td>\n",
       "      <td>General Medicine</td>\n",
       "      <td>NaN</td>\n",
       "    </tr>\n",
       "    <tr>\n",
       "      <th>1</th>\n",
       "      <td>MBBS, Diploma in Otorhinolaryngology (DLO)</td>\n",
       "      <td>31 years experience</td>\n",
       "      <td>NaN</td>\n",
       "      <td>West Marredpally, Hyderabad</td>\n",
       "      <td>ENT Specialist</td>\n",
       "      <td>NaN</td>\n",
       "    </tr>\n",
       "    <tr>\n",
       "      <th>2</th>\n",
       "      <td>MBBS, DDVL</td>\n",
       "      <td>40 years experience</td>\n",
       "      <td>70%</td>\n",
       "      <td>KK Nagar, Chennai</td>\n",
       "      <td>Dermatologists</td>\n",
       "      <td>70% 4 Feedback KK Nagar, Chennai</td>\n",
       "    </tr>\n",
       "    <tr>\n",
       "      <th>3</th>\n",
       "      <td>BAMS</td>\n",
       "      <td>0 years experience</td>\n",
       "      <td>NaN</td>\n",
       "      <td>New Ashok Nagar, Delhi</td>\n",
       "      <td>Ayurveda</td>\n",
       "      <td>NaN</td>\n",
       "    </tr>\n",
       "    <tr>\n",
       "      <th>4</th>\n",
       "      <td>BDS, MDS - Conservative Dentistry &amp; Endodontics</td>\n",
       "      <td>16 years experience</td>\n",
       "      <td>100%</td>\n",
       "      <td>Kanakpura Road, Bangalore</td>\n",
       "      <td>Dentist</td>\n",
       "      <td>General Dentistry Conservative Dentistry Cosme...</td>\n",
       "    </tr>\n",
       "  </tbody>\n",
       "</table>\n",
       "</div>"
      ],
      "text/plain": [
       "                                     Qualification           Experience  \\\n",
       "0                                             MBBS  35 years experience   \n",
       "1       MBBS, Diploma in Otorhinolaryngology (DLO)  31 years experience   \n",
       "2                                       MBBS, DDVL  40 years experience   \n",
       "3                                             BAMS   0 years experience   \n",
       "4  BDS, MDS - Conservative Dentistry & Endodontics  16 years experience   \n",
       "\n",
       "  Rating                        Place           Profile  \\\n",
       "0    NaN       Ghatkopar East, Mumbai  General Medicine   \n",
       "1    NaN  West Marredpally, Hyderabad    ENT Specialist   \n",
       "2    70%            KK Nagar, Chennai    Dermatologists   \n",
       "3    NaN       New Ashok Nagar, Delhi          Ayurveda   \n",
       "4   100%    Kanakpura Road, Bangalore           Dentist   \n",
       "\n",
       "                                  Miscellaneous_Info  \n",
       "0                                                NaN  \n",
       "1                                                NaN  \n",
       "2                   70% 4 Feedback KK Nagar, Chennai  \n",
       "3                                                NaN  \n",
       "4  General Dentistry Conservative Dentistry Cosme...  "
      ]
     },
     "execution_count": 34,
     "metadata": {},
     "output_type": "execute_result"
    }
   ],
   "source": [
    "fee_test=pd.read_excel(\"C:/Users/trinity/Downloads/Doctor_fee_consultation/Final Participant Data Folder/Final_Test.xlsx\")\n",
    "fee_test.head()"
   ]
  },
  {
   "cell_type": "code",
   "execution_count": 35,
   "metadata": {},
   "outputs": [
    {
     "data": {
      "text/plain": [
       "Qualification            0\n",
       "Experience               0\n",
       "Rating                1090\n",
       "Place                    6\n",
       "Profile                  0\n",
       "Miscellaneous_Info     834\n",
       "dtype: int64"
      ]
     },
     "execution_count": 35,
     "metadata": {},
     "output_type": "execute_result"
    }
   ],
   "source": [
    "fee_test.isnull().sum()"
   ]
  },
  {
   "cell_type": "code",
   "execution_count": 36,
   "metadata": {},
   "outputs": [
    {
     "data": {
      "text/plain": [
       "0                                                  MBBS\n",
       "1            MBBS, Diploma in Otorhinolaryngology (DLO)\n",
       "2                                            MBBS, DDVL\n",
       "3                                                  BAMS\n",
       "4       BDS, MDS - Conservative Dentistry & Endodontics\n",
       "                             ...                       \n",
       "1982                           BAMS, Doctor of Medicine\n",
       "1983     MD - Dermatology , Venereology & Leprosy, MBBS\n",
       "1984           MBBS, MD / MS - Obstetrics & Gynaecology\n",
       "1985                                                BDS\n",
       "1986     MBBS, MD - Dermatology , Venereology & Leprosy\n",
       "Name: Qualification, Length: 1987, dtype: object"
      ]
     },
     "execution_count": 36,
     "metadata": {},
     "output_type": "execute_result"
    }
   ],
   "source": [
    "fee_test['Qualification']"
   ]
  },
  {
   "cell_type": "code",
   "execution_count": 37,
   "metadata": {},
   "outputs": [
    {
     "data": {
      "text/html": [
       "<div>\n",
       "<style scoped>\n",
       "    .dataframe tbody tr th:only-of-type {\n",
       "        vertical-align: middle;\n",
       "    }\n",
       "\n",
       "    .dataframe tbody tr th {\n",
       "        vertical-align: top;\n",
       "    }\n",
       "\n",
       "    .dataframe thead th {\n",
       "        text-align: right;\n",
       "    }\n",
       "</style>\n",
       "<table border=\"1\" class=\"dataframe\">\n",
       "  <thead>\n",
       "    <tr style=\"text-align: right;\">\n",
       "      <th></th>\n",
       "      <th>qual</th>\n",
       "      <th>Experience</th>\n",
       "      <th>Rating</th>\n",
       "      <th>Profile</th>\n",
       "      <th>Miscellaneous_Info</th>\n",
       "      <th>Area</th>\n",
       "      <th>City</th>\n",
       "    </tr>\n",
       "  </thead>\n",
       "  <tbody>\n",
       "    <tr>\n",
       "      <th>0</th>\n",
       "      <td>1.0</td>\n",
       "      <td>35</td>\n",
       "      <td>0</td>\n",
       "      <td>4</td>\n",
       "      <td>0.0</td>\n",
       "      <td>142</td>\n",
       "      <td>6</td>\n",
       "    </tr>\n",
       "    <tr>\n",
       "      <th>1</th>\n",
       "      <td>2.0</td>\n",
       "      <td>31</td>\n",
       "      <td>0</td>\n",
       "      <td>3</td>\n",
       "      <td>0.0</td>\n",
       "      <td>578</td>\n",
       "      <td>5</td>\n",
       "    </tr>\n",
       "    <tr>\n",
       "      <th>2</th>\n",
       "      <td>3.0</td>\n",
       "      <td>40</td>\n",
       "      <td>10</td>\n",
       "      <td>2</td>\n",
       "      <td>1.0</td>\n",
       "      <td>212</td>\n",
       "      <td>1</td>\n",
       "    </tr>\n",
       "    <tr>\n",
       "      <th>3</th>\n",
       "      <td>2.0</td>\n",
       "      <td>0</td>\n",
       "      <td>0</td>\n",
       "      <td>0</td>\n",
       "      <td>0.0</td>\n",
       "      <td>373</td>\n",
       "      <td>3</td>\n",
       "    </tr>\n",
       "    <tr>\n",
       "      <th>4</th>\n",
       "      <td>3.0</td>\n",
       "      <td>16</td>\n",
       "      <td>1</td>\n",
       "      <td>1</td>\n",
       "      <td>1.0</td>\n",
       "      <td>231</td>\n",
       "      <td>0</td>\n",
       "    </tr>\n",
       "  </tbody>\n",
       "</table>\n",
       "</div>"
      ],
      "text/plain": [
       "   qual  Experience  Rating  Profile  Miscellaneous_Info  Area  City\n",
       "0   1.0          35       0        4                 0.0   142     6\n",
       "1   2.0          31       0        3                 0.0   578     5\n",
       "2   3.0          40      10        2                 1.0   212     1\n",
       "3   2.0           0       0        0                 0.0   373     3\n",
       "4   3.0          16       1        1                 1.0   231     0"
      ]
     },
     "execution_count": 37,
     "metadata": {},
     "output_type": "execute_result"
    }
   ],
   "source": [
    "fee_test['Rating'].fillna('0%',inplace=True)\n",
    "\n",
    "for i in fee_test['Miscellaneous_Info'].value_counts().index:\n",
    "    fee_test['Miscellaneous_Info'].replace(i,int(1),inplace=True)\n",
    "fee_test['Miscellaneous_Info'].fillna(int(0),inplace=True)\n",
    "\n",
    "fee_test['Place'].fillna('None,None',inplace=True)\n",
    "\n",
    "def features(arr,string):\n",
    "    for data in d:\n",
    "        if data.find(string)!=-1:\n",
    "            arr.append(int(1))\n",
    "        else:\n",
    "            arr.append(int(0))\n",
    "\n",
    "# To enter the values into a dataframe\n",
    "def to_df(lst):\n",
    "    lst=pd.DataFrame(lst)\n",
    "    return(lst)\n",
    "\n",
    "col=['BDS','BHMS','BAMS','MBBS','MS','MD','DDVL','DLO','MDS','DDV']\n",
    "d=fee_test['Qualification']\n",
    "BDS=[]\n",
    "BHMS=[]\n",
    "BAMS=[]\n",
    "MBBS=[]\n",
    "MS=[]\n",
    "MD=[]\n",
    "DDVL=[]\n",
    "DLO=[]\n",
    "MDS=[]\n",
    "DDV=[]\n",
    "\n",
    "d=fee_test['Qualification']\n",
    "features(BDS,'BDS')\n",
    "features(BHMS,'BHMS')\n",
    "features(BAMS,'BAMS')\n",
    "features(MBBS,'MBBS')\n",
    "features(MS,'MS')\n",
    "features(DDVL,'DDVL')\n",
    "features(DLO,'DLO')\n",
    "features(MDS,'MDS')\n",
    "features(DDV,'DDV')\n",
    "features(MD,'MD')\n",
    "\n",
    "BDS=to_df(BDS)\n",
    "BHMS=to_df(BHMS)\n",
    "BAMS=to_df(BAMS)\n",
    "MBBS=to_df(MBBS)\n",
    "MS=to_df(MS)\n",
    "DDVL=to_df(DDVL)\n",
    "DLO=to_df(DLO)\n",
    "MDS=to_df(MDS)\n",
    "DDV=to_df(DDV)\n",
    "MD=to_df(MD)\n",
    "\n",
    "\n",
    "\n",
    "fee_test= fee_test.drop('Qualification',axis=1)\n",
    "fee_test=pd.concat([BDS,BHMS,BAMS,MBBS,MS,MD,DDVL,DLO,MDS,DDV,fee_test],axis=1)\n",
    "mx=fee_test.columns[10:]\n",
    "for i in mx:\n",
    "    col.append(i)\n",
    "fee_test.columns=col\n",
    "\n",
    "\n",
    "\n",
    "for i in fee_test[\"Experience\"].value_counts().index:\n",
    "    x=i.split()\n",
    "    fee_test[\"Experience\"].replace(i,int(x[0]),inplace=True)\n",
    "    \n",
    "fee_test[\"Area\"]=fee_test[\"Place\"].str.rsplit(',',1).str.get(0)\n",
    "fee_test[\"City\"]=fee_test[\"Place\"].str.rsplit(',',1).str.get(1)\n",
    "fee_test.drop('Place',axis=1)\n",
    "\n",
    "\n",
    "from sklearn.preprocessing import LabelEncoder\n",
    "le = LabelEncoder()\n",
    "\n",
    "fee_test[\"Rating\"]=le.fit_transform(fee_test[\"Rating\"])\n",
    "fee_test[\"Profile\"]=le.fit_transform(fee_test[\"Profile\"])\n",
    "fee_test[\"Area\"]=le.fit_transform(fee_test[\"Area\"])\n",
    "fee_test[\"City\"]=le.fit_transform(fee_test[\"City\"].astype(str))\n",
    "fee_test.head()\n",
    "\n",
    "col1=['BDS','BHMS','BAMS','MBBS','MS','MD','DDVL','DLO','MDS','DDV']\n",
    "summ=np.zeros(len(fee_test))\n",
    "for i in col1:\n",
    "    arr=fee_test[i]\n",
    "    summ=np.add(summ,arr)\n",
    "temp_df=pd.DataFrame({'qual':summ}) \n",
    "\n",
    "fee_test=pd.concat([temp_df,fee_test],axis=1)\n",
    "\n",
    "\n",
    "fee_test=fee_test.drop(['BDS','BHMS','BAMS','MBBS','MS','MD','DDVL','DLO','MDS','DDV','Place'],axis=1)\n",
    "fee_test.head()\n",
    "\n",
    "\n",
    "    "
   ]
  },
  {
   "cell_type": "code",
   "execution_count": null,
   "metadata": {},
   "outputs": [],
   "source": []
  },
  {
   "cell_type": "markdown",
   "metadata": {},
   "source": [
    "# Modeling"
   ]
  },
  {
   "cell_type": "code",
   "execution_count": 38,
   "metadata": {},
   "outputs": [],
   "source": [
    "X=fee.drop('Fees',axis=1)\n",
    "y=fee[\"Fees\"]"
   ]
  },
  {
   "cell_type": "code",
   "execution_count": 39,
   "metadata": {},
   "outputs": [],
   "source": [
    "## scaling input variables\n",
    "from sklearn.preprocessing import StandardScaler\n",
    "ss=StandardScaler()\n",
    "X=ss.fit_transform(X)"
   ]
  },
  {
   "cell_type": "code",
   "execution_count": 40,
   "metadata": {},
   "outputs": [],
   "source": [
    "# splitting data in train and test data\n",
    "from sklearn.model_selection import train_test_split\n",
    "X_train,X_test,y_train,y_test= train_test_split(X,y,test_size=0.2, random_state = 42)\n"
   ]
  },
  {
   "cell_type": "code",
   "execution_count": 41,
   "metadata": {},
   "outputs": [],
   "source": [
    "#importing all modeling libraries\n",
    "from sklearn.linear_model import LogisticRegression,Lasso,Ridge,ElasticNet\n",
    "from sklearn.tree import DecisionTreeRegressor\n",
    "from sklearn.svm import SVR\n",
    "from sklearn.neighbors import KNeighborsRegressor\n",
    "\n",
    "#import boosting models\n",
    "from sklearn.ensemble import RandomForestRegressor\n",
    "from sklearn.ensemble import AdaBoostRegressor\n",
    "from sklearn.ensemble import GradientBoostingRegressor\n",
    "\n",
    "#import error matrics\n",
    "from sklearn.metrics import mean_absolute_error,mean_squared_error,r2_score\n",
    "from sklearn.model_selection import GridSearchCV,cross_val_score"
   ]
  },
  {
   "cell_type": "code",
   "execution_count": 42,
   "metadata": {
    "scrolled": true
   },
   "outputs": [
    {
     "name": "stdout",
     "output_type": "stream",
     "text": [
      "score of  LogisticRegression() is: 0.256501677852349\n",
      "MAE: 174.63537300922044\n",
      "MSE: 58128.58340318525\n",
      "RMSE: 241.09870054229916\n",
      "R2_score: -0.6874998133645229\n",
      "************************************************\n",
      "\n",
      "\n",
      "score of  Lasso() is: 0.071993959574431\n",
      "MAE: 145.9236880521222\n",
      "MSE: 31969.283482644947\n",
      "RMSE: 178.79956231111123\n",
      "R2_score: 0.07191683072385513\n",
      "************************************************\n",
      "\n",
      "\n",
      "score of  Ridge() is: 0.07217134907030254\n",
      "MAE: 145.67246833580663\n",
      "MSE: 31936.322941036156\n",
      "RMSE: 178.70736677886606\n",
      "R2_score: 0.07287369057759419\n",
      "************************************************\n",
      "\n",
      "\n",
      "score of  ElasticNet() is: 0.06342145628934392\n",
      "MAE: 147.24178891315458\n",
      "MSE: 32232.93306780612\n",
      "RMSE: 179.53532540368238\n",
      "R2_score: 0.06426296063610182\n",
      "************************************************\n",
      "\n",
      "\n",
      "score of  DecisionTreeRegressor() is: 0.9962452437330678\n",
      "MAE: 157.3428331936295\n",
      "MSE: 49972.63369656329\n",
      "RMSE: 223.54559645979003\n",
      "R2_score: -0.4507287998293674\n",
      "************************************************\n",
      "\n",
      "\n",
      "score of  SVR() is: 0.046810497019258435\n",
      "MAE: 141.7240343903096\n",
      "MSE: 32755.053237228418\n",
      "RMSE: 180.9835717329847\n",
      "R2_score: 0.04910556926561649\n",
      "************************************************\n",
      "\n",
      "\n",
      "score of  KNeighborsRegressor() is: 0.36787600436994283\n",
      "MAE: 139.24543168482816\n",
      "MSE: 32965.67359597653\n",
      "RMSE: 181.56451634605406\n",
      "R2_score: 0.04299116228595601\n",
      "************************************************\n",
      "\n",
      "\n",
      "score of  RandomForestRegressor() is: 0.8804668587025118\n",
      "MAE: 126.06657605875544\n",
      "MSE: 27644.9622317198\n",
      "RMSE: 166.26774260727726\n",
      "R2_score: 0.19745388799651808\n",
      "************************************************\n",
      "\n",
      "\n",
      "score of  AdaBoostRegressor() is: 0.14696225199279567\n",
      "MAE: 140.3937225791477\n",
      "MSE: 29567.199618730916\n",
      "RMSE: 171.95115474672136\n",
      "R2_score: 0.14165044256719383\n",
      "************************************************\n",
      "\n",
      "\n",
      "score of  GradientBoostingRegressor() is: 0.264794762806276\n",
      "MAE: 126.49889080862896\n",
      "MSE: 26232.575635924644\n",
      "RMSE: 161.9647357788869\n",
      "R2_score: 0.23845612781150505\n",
      "************************************************\n",
      "\n",
      "\n"
     ]
    }
   ],
   "source": [
    "# all algorithim using loop\n",
    "model=[LogisticRegression(),Lasso(),Ridge(),ElasticNet(),DecisionTreeRegressor(),SVR(),KNeighborsRegressor(),\n",
    "       RandomForestRegressor(),AdaBoostRegressor(),GradientBoostingRegressor()]\n",
    "for m in model:\n",
    "    m.fit(X_train,y_train)\n",
    "    score=m.score(X_train,y_train)\n",
    "    predm=m.predict(X_test)\n",
    "    print(\"score of \",m,'is:',score)\n",
    "    print(\"MAE:\",mean_absolute_error(y_test,predm))\n",
    "    print(\"MSE:\",mean_squared_error(y_test,predm))\n",
    "    print(\"RMSE:\",np.sqrt(mean_squared_error(y_test,predm)))\n",
    "    print(\"R2_score:\",r2_score(y_test,predm))\n",
    "    print(\"************************************************\")\n",
    "    print('\\n')\n",
    "          "
   ]
  },
  {
   "cell_type": "code",
   "execution_count": 43,
   "metadata": {
    "scrolled": true
   },
   "outputs": [
    {
     "name": "stdout",
     "output_type": "stream",
     "text": [
      "model: LogisticRegression()\n",
      "score: [-0.67827299 -0.73357809 -0.46270064 -0.57696548 -0.69787019 -0.64720118\n",
      " -0.57794378 -0.72444832 -0.64904856 -0.56505996]\n",
      "Mean score -0.631308919460443\n",
      "standarad deviation 0.08059524759570585\n",
      "*********************************************\n",
      "\n",
      "\n",
      "model: Lasso()\n",
      "score: [0.04586079 0.06515588 0.0946396  0.08158474 0.05767182 0.08337963\n",
      " 0.06207431 0.04649448 0.08343061 0.06008654]\n",
      "Mean score 0.06803783940661423\n",
      "standarad deviation 0.01591843222454549\n",
      "*********************************************\n",
      "\n",
      "\n",
      "model: Ridge()\n",
      "score: [0.04472379 0.06628675 0.09658233 0.08184947 0.05719624 0.08458385\n",
      " 0.0613019  0.04481175 0.08483904 0.05984095]\n",
      "Mean score 0.06820160712083932\n",
      "standarad deviation 0.01696318494729222\n",
      "*********************************************\n",
      "\n",
      "\n",
      "model: ElasticNet()\n",
      "score: [0.04826072 0.06380701 0.07730206 0.06883178 0.04863151 0.07135293\n",
      " 0.05577144 0.04730456 0.06831518 0.05584264]\n",
      "Mean score 0.060541983481085714\n",
      "standarad deviation 0.010248612804888804\n",
      "*********************************************\n",
      "\n",
      "\n",
      "model: DecisionTreeRegressor()\n",
      "score: [-0.70006105 -0.42021787 -0.47059091 -0.60175386 -0.32741448 -0.41389838\n",
      " -0.48645991 -0.47331327 -0.46899631 -0.48989445]\n",
      "Mean score -0.4852600490219678\n",
      "standarad deviation 0.09725935109687489\n",
      "*********************************************\n",
      "\n",
      "\n",
      "model: SVR()\n",
      "score: [0.05199911 0.06838828 0.06248643 0.02586253 0.03845405 0.07926674\n",
      " 0.0360936  0.0068472  0.047244   0.07505679]\n",
      "Mean score 0.049169872110052845\n",
      "standarad deviation 0.02180505558267073\n",
      "*********************************************\n",
      "\n",
      "\n",
      "model: KNeighborsRegressor()\n",
      "score: [-0.0074517   0.05343179  0.19381634  0.02571645  0.01493254  0.08139821\n",
      "  0.01973046 -0.00569275  0.02148172  0.03638591]\n",
      "Mean score 0.04337489685823718\n",
      "standarad deviation 0.05601653522881039\n",
      "*********************************************\n",
      "\n",
      "\n",
      "model: RandomForestRegressor()\n",
      "score: [0.16405834 0.2428798  0.22223327 0.10234976 0.24498625 0.20451428\n",
      " 0.23260089 0.1585955  0.16701826 0.18797544]\n",
      "Mean score 0.19272117921275228\n",
      "standarad deviation 0.043225261915405044\n",
      "*********************************************\n",
      "\n",
      "\n",
      "model: AdaBoostRegressor()\n",
      "score: [0.13212469 0.11367384 0.16439245 0.12004272 0.15384694 0.12595792\n",
      " 0.13707467 0.10558639 0.13154064 0.08880177]\n",
      "Mean score 0.12730420358028682\n",
      "standarad deviation 0.021002692579778243\n",
      "*********************************************\n",
      "\n",
      "\n",
      "model: GradientBoostingRegressor()\n",
      "score: [0.2254286  0.21029017 0.25942429 0.18561279 0.2376203  0.22748182\n",
      " 0.24109046 0.1650315  0.22503853 0.19756982]\n",
      "Mean score 0.21745882874359182\n",
      "standarad deviation 0.026752992844984766\n",
      "*********************************************\n",
      "\n",
      "\n"
     ]
    }
   ],
   "source": [
    "model=[LogisticRegression(),Lasso(),Ridge(),ElasticNet(),DecisionTreeRegressor(),SVR(),KNeighborsRegressor(),\n",
    "       RandomForestRegressor(),AdaBoostRegressor(),GradientBoostingRegressor()]\n",
    "\n",
    "for m in model:\n",
    "    score=cross_val_score(m,X,y,cv=10,scoring='r2')\n",
    "    print('model:',m)\n",
    "    print('score:',score)\n",
    "    print('Mean score',score.mean())\n",
    "    print('standarad deviation',score.std())\n",
    "    print(\"*********************************************\")\n",
    "    print('\\n')"
   ]
  },
  {
   "cell_type": "markdown",
   "metadata": {},
   "source": [
    "RandomForestRegressor has best score and r2  score.I choose it as final model"
   ]
  },
  {
   "cell_type": "code",
   "execution_count": 44,
   "metadata": {},
   "outputs": [
    {
     "name": "stdout",
     "output_type": "stream",
     "text": [
      "{'max_depth': 6, 'n_estimators': 600}\n"
     ]
    }
   ],
   "source": [
    "#using GridsearchCV to find parameters \n",
    "from sklearn.model_selection import GridSearchCV\n",
    "parameters={'n_estimators':[400,500,600,700],'max_depth':[4,5,6,15,20]}\n",
    "RFC=RandomForestRegressor()\n",
    "\n",
    "clf=GridSearchCV(RFC,parameters) \n",
    "clf.fit(X,y)\n",
    "print(clf.best_params_)\n"
   ]
  },
  {
   "cell_type": "code",
   "execution_count": 45,
   "metadata": {},
   "outputs": [
    {
     "name": "stdout",
     "output_type": "stream",
     "text": [
      "score: 0.5771809789650517\n",
      "\n",
      "\n",
      "mean absolute error 124.02875404886241\n",
      "mean squared error 26000.857836262632\n",
      "Root mean squared error 161.24781498135914\n",
      "\n",
      "\n",
      "r2 score 0.2451830033138842\n"
     ]
    }
   ],
   "source": [
    "# using RandomForestRegressor with its best parameters\n",
    "from sklearn.ensemble import RandomForestRegressor\n",
    "rf=RandomForestRegressor(n_estimators=400,min_samples_split=15,min_samples_leaf=1,max_features='auto',max_depth=20)\n",
    "rf.fit(X_train,y_train)\n",
    "print('score:',rf.score(X_train,y_train))\n",
    "y_pred=rf.predict(X_test)\n",
    "print('\\n')\n",
    "print('mean absolute error', mean_absolute_error(y_test,y_pred))\n",
    "print('mean squared error', mean_squared_error(y_test,y_pred))\n",
    "print('Root mean squared error', np.sqrt(mean_squared_error(y_test,y_pred)))\n",
    "print('\\n')\n",
    "print('r2 score',r2_score(y_test,y_pred))"
   ]
  },
  {
   "cell_type": "raw",
   "metadata": {},
   "source": [
    "Now r2 score increased, before Hyperparameter tunning r2 --------->0.18,\n",
    "                        after  Hyperparameter tunning r2---------->0.24\n"
   ]
  },
  {
   "cell_type": "code",
   "execution_count": 46,
   "metadata": {},
   "outputs": [
    {
     "data": {
      "image/png": "[encoded data removed]",
      "text/plain": [
       "<Figure size 432x288 with 1 Axes>"
      ]
     },
     "metadata": {
      "needs_background": "light"
     },
     "output_type": "display_data"
    }
   ],
   "source": [
    "#plotting distribution plot we find Gaussian plot\n",
    "sns.distplot(y_test-y_pred)\n",
    "plt.show()"
   ]
  },
  {
   "cell_type": "code",
   "execution_count": 47,
   "metadata": {},
   "outputs": [
    {
     "data": {
      "image/png": "[encoded data removed]",
      "text/plain": [
       "<Figure size 432x288 with 1 Axes>"
      ]
     },
     "metadata": {
      "needs_background": "light"
     },
     "output_type": "display_data"
    }
   ],
   "source": [
    "#scatter plot between test data and predicted data\n",
    "plt.scatter(y_test,y_pred,alpha=0.5)\n",
    "plt.xlabel('y_test')\n",
    "plt.ylabel('y_pred')\n",
    "plt.title('scatter plt between test and predict data',fontsize=15)\n",
    "plt.show()"
   ]
  },
  {
   "cell_type": "code",
   "execution_count": 48,
   "metadata": {},
   "outputs": [
    {
     "data": {
      "text/plain": [
       "['doctors consultation fee prediction_rf.pk1']"
      ]
     },
     "execution_count": 48,
     "metadata": {},
     "output_type": "execute_result"
    }
   ],
   "source": [
    "#saving the model\n",
    "import joblib\n",
    "joblib.dump(rf,'doctors consultation fee prediction_rf.pk1')"
   ]
  },
  {
   "cell_type": "markdown",
   "metadata": {},
   "source": [
    "###### Now we are going to predict the test data with the model we've build."
   ]
  },
  {
   "cell_type": "code",
   "execution_count": 49,
   "metadata": {},
   "outputs": [],
   "source": [
    "X_test=fee_test\n",
    "y_prediction=clf.predict(X_test)\n"
   ]
  },
  {
   "cell_type": "code",
   "execution_count": 50,
   "metadata": {},
   "outputs": [
    {
     "name": "stdout",
     "output_type": "stream",
     "text": [
      "309.79696362689174\n"
     ]
    }
   ],
   "source": [
    "for i in range(len(y_prediction)):\n",
    "    print(y_prediction[i])\n",
    "    break"
   ]
  },
  {
   "cell_type": "code",
   "execution_count": 51,
   "metadata": {},
   "outputs": [
    {
     "name": "stdout",
     "output_type": "stream",
     "text": [
      "   id        Fees\n",
      "0   1  309.796964\n",
      "1   2  309.796964\n",
      "2   3  316.323001\n",
      "3   4  347.471920\n",
      "4   5  279.340212\n"
     ]
    }
   ],
   "source": [
    "y_fin=[]\n",
    "for i in range(len(y_prediction)):\n",
    "    y_fin.append(y_prediction[i])\n",
    "y_fin=pd.DataFrame({'id':np.arange(1,len(y_fin)+1,1),'Fees':y_fin})\n",
    "print(y_fin.head())"
   ]
  }
 ],
 "metadata": {
  "kernelspec": {
   "display_name": "Python 3",
   "language": "python",
   "name": "python3"
  },
  "language_info": {
   "codemirror_mode": {
    "name": "ipython",
    "version": 3
   },
   "file_extension": ".py",
   "mimetype": "text/x-python",
   "name": "python",
   "nbconvert_exporter": "python",
   "pygments_lexer": "ipython3",
   "version": "3.8.5"
  }
 },
 "nbformat": 4,
 "nbformat_minor": 4
}
